{
 "cells": [
  {
   "cell_type": "code",
   "execution_count": 2,
   "id": "f6cb2062-5c05-44c5-a458-4a09e7ad07a2",
   "metadata": {},
   "outputs": [],
   "source": [
    "import os\n",
    "import random\n",
    "import numpy as np\n",
    "import scipy.io\n",
    "from sklearn.model_selection import train_test_split\n",
    "from sklearn.preprocessing import StandardScaler\n",
    "from sklearn.decomposition import PCA\n",
    "from sklearn.metrics import confusion_matrix, roc_curve, auc, classification_report\n",
    "from sklearn.utils import shuffle\n",
    "from sklearn.neural_network import MLPClassifier\n",
    "from sklearn.manifold import TSNE\n",
    "import matplotlib.pyplot as plt\n",
    "import seaborn as sns\n",
    "from read_eeg import get_eeg_info\n",
    "from scipy.signal import welch"
   ]
  },
  {
   "cell_type": "code",
   "execution_count": 3,
   "id": "f0ee91df-9d5b-47e9-95de-326da5a21098",
   "metadata": {},
   "outputs": [],
   "source": [
    "def read_egg(path):\n",
    "    mat = scipy.io.loadmat(path)\n",
    "    eeg = mat['transferred_EEG']['trial'][0,0][0,0]  # first trial\n",
    "    return eeg"
   ]
  },
  {
   "cell_type": "code",
   "execution_count": 4,
   "id": "a6e3a70e-62ac-42ae-9bb1-ec5fa795d867",
   "metadata": {},
   "outputs": [],
   "source": [
    "# --- Parameters ---\n",
    "healthy_folder = 'C:/Users/Haiya/Downloads/Data_EEG/Data_EEG/Healthy/'\n",
    "ad_folder = 'C:/Users/Haiya/Downloads/Data_EEG/Data_EEG/AD/'\n",
    "\n",
    "fs = 500\n",
    "min_samples = int(1.0 * 60 * fs)\n",
    "max_samples = int(1.0 * 60 * fs)\n",
    "num_segments = 7\n",
    "\n",
    "# --- File Loading ---\n",
    "ad_files = [f for f in os.listdir(ad_folder)]\n",
    "healthy_files = [f for f in os.listdir(healthy_folder)]\n",
    "\n",
    "random.seed(1)\n",
    "random.shuffle(ad_files)\n",
    "random.shuffle(healthy_files)\n",
    "\n",
    "AD_data = {}\n",
    "heal_data = {} \n",
    "\n",
    "for i in ad_files: \n",
    "    egg = read_egg(ad_folder + i)\n",
    "    AD_data[i + '_AD'] = egg\n",
    "\n",
    "for i in healthy_files: \n",
    "    egg = read_egg(healthy_folder + i)\n",
    "    heal_data[i+ '_healthy'] = egg"
   ]
  },
  {
   "cell_type": "code",
   "execution_count": 5,
   "id": "d9b8b51d-8b48-4279-ae40-a1505410ed7f",
   "metadata": {},
   "outputs": [],
   "source": [
    "def split_dict_with_sklearn(data_dict, seed=42):\n",
    "    keys = list(data_dict.keys())\n",
    "\n",
    "    # First: split into train (80%) and temp (20%)\n",
    "    train_keys, temp_keys = train_test_split(keys, test_size=0.4, random_state=seed)\n",
    "\n",
    "    # Second: split temp into val (10%) and test (10%)\n",
    "    val_keys, test_keys = train_test_split(temp_keys, test_size=0.5, random_state=seed)\n",
    "\n",
    "    # Reconstruct dictionaries\n",
    "    train = {k: data_dict[k] for k in train_keys}\n",
    "    val   = {k: data_dict[k] for k in val_keys}\n",
    "    test  = {k: data_dict[k] for k in test_keys}\n",
    "    return train, val, test"
   ]
  },
  {
   "cell_type": "code",
   "execution_count": 6,
   "id": "f705b33c-b4c2-46ce-921f-ae332e38bbda",
   "metadata": {},
   "outputs": [
    {
     "name": "stdout",
     "output_type": "stream",
     "text": [
      "Train size: 19, Val: 6, Test: 7\n"
     ]
    }
   ],
   "source": [
    "# Apply to each class\n",
    "ad_train, ad_val, ad_test = split_dict_with_sklearn(AD_data)\n",
    "hl_train, hl_val, hl_test = split_dict_with_sklearn(heal_data)\n",
    "\n",
    "# Combine class-wise splits\n",
    "train_rd = {**ad_train, **hl_train}\n",
    "val_rd   = {**ad_val, **hl_val}\n",
    "test_rd  = {**ad_test, **hl_test}\n",
    "\n",
    "print(f\"Train size: {len(train_rd)}, Val: {len(val_rd)}, Test: {len(test_rd)}\")"
   ]
  },
  {
   "cell_type": "code",
   "execution_count": 7,
   "id": "d6d8a9fb-0baf-4fdb-be92-6baedd338947",
   "metadata": {},
   "outputs": [],
   "source": [
    "def segment_subjects(data_dict, num_segments=7, drop_remainder=True):\n",
    "    \"\"\"\n",
    "    Split each subject’s EEG into `num_segments` contiguous chunks of equal length.\n",
    "\n",
    "    Parameters\n",
    "    ----------\n",
    "    data_dict : dict[str, np.ndarray]\n",
    "        Keys are subject IDs, values are EEG arrays shaped (n_channels, n_samples).\n",
    "    num_segments : int, default 7\n",
    "        How many equal-sized chunks to create.\n",
    "    drop_remainder : bool, default True\n",
    "        If total_samples is not exactly divisible by `num_segments`,\n",
    "        drop the trailing leftover when True;\n",
    "        otherwise let the final segment absorb the remainder.\n",
    "\n",
    "    Returns\n",
    "    -------\n",
    "    segments : list[np.ndarray]\n",
    "        EEG chunks of shape (n_channels, seg_len).\n",
    "    labels : list[int]\n",
    "        1 if the subject key contains “_AD”, else 0.\n",
    "    \"\"\"\n",
    "    segments, labels = [], []\n",
    "\n",
    "    for k, eeg in data_dict.items():\n",
    "        n_ch, total = eeg.shape\n",
    "        seg_len = total // num_segments\n",
    "        if seg_len == 0:\n",
    "            raise ValueError(f\"'{k}' has too few samples ({total}) for {num_segments} segments.\")\n",
    "\n",
    "        # Determine how many samples each segment will actually take\n",
    "        lengths = [seg_len] * num_segments\n",
    "        if not drop_remainder:\n",
    "            # give the remainder to the last segment\n",
    "            lengths[-1] += total - seg_len * num_segments\n",
    "\n",
    "        start = 0\n",
    "        for length in lengths:\n",
    "            end = start + length\n",
    "            if end > total:          # happens only when drop_remainder=True\n",
    "                break\n",
    "            segments.append(eeg[:, start:end])\n",
    "            labels.append(1 if \"_AD\" in k else 0)\n",
    "            start = end\n",
    "\n",
    "    return segments, labels\n"
   ]
  },
  {
   "cell_type": "code",
   "execution_count": 8,
   "id": "a25dfc6e-a671-4f95-8530-3519bc7cb3e9",
   "metadata": {},
   "outputs": [],
   "source": [
    "#bands = {'Delta': (1, 4), 'Theta': (4, 8), 'Alpha': (8, 13), 'Beta': (13, 30), 'Gamma': (30, 70)}\n",
    "def extract_features(eeg_data, fs):\n",
    "    features = []\n",
    "    for seg in eeg_data:\n",
    "        feature = [] \n",
    "        for ch in seg:\n",
    "            f, pxx = welch(ch, fs=fs, window='hamming', nperseg=512, noverlap=256, nfft=512) # sliding window that has size of 256 units. \n",
    "            feature.append(np.array(pxx))\n",
    "        features.append(np.array(feature))\n",
    "    print(np.array(features).shape)\n",
    "    return np.array(features)"
   ]
  },
  {
   "cell_type": "code",
   "execution_count": null,
   "id": "8750695d-fb19-4fd1-b015-8944057cb41a",
   "metadata": {},
   "outputs": [],
   "source": []
  },
  {
   "cell_type": "code",
   "execution_count": 10,
   "id": "c5fc8499-7ba9-498d-b87f-613bd0ec410c",
   "metadata": {},
   "outputs": [
    {
     "name": "stdout",
     "output_type": "stream",
     "text": [
      "(133, 19, 257)\n",
      "(42, 19, 257)\n",
      "(49, 19, 257)\n"
     ]
    }
   ],
   "source": [
    "# --- Process Data ---\n",
    "train_data, train_labels = segment_subjects(train_rd, num_segments)\n",
    "val_data, val_labels = segment_subjects(val_rd, num_segments)\n",
    "test_data, test_labels = segment_subjects(test_rd, num_segments)\n",
    "\n",
    "# Balance train set to make both == \n",
    "#train_data, train_labels = shuffle(train_data, train_labels, random_state=1)\n",
    "#ad_idx = [i for i, l in enumerate(train_labels) if l == 1]\n",
    "#hl_idx = [i for i, l in enumerate(train_labels) if l == 0]\n",
    "#min_class = min(len(ad_idx), len(hl_idx))\n",
    "#sel_idx = ad_idx[:min_class] + hl_idx[:min_class]\n",
    "#train_data = [train_data[i] for i in sel_idx]\n",
    "#train_labels = [train_labels[i] for i in sel_idx]\n",
    "\n",
    "# Feature extraction\n",
    "train_features = extract_features(train_data, fs)\n",
    "val_features = extract_features(val_data, fs)\n",
    "test_features = extract_features(test_data, fs)"
   ]
  },
  {
   "cell_type": "code",
   "execution_count": 11,
   "id": "96419292-abbc-46e7-b755-5b2a256e0a2e",
   "metadata": {},
   "outputs": [
    {
     "name": "stdout",
     "output_type": "stream",
     "text": [
      "(133, 19, 257) (42, 19, 257) (49, 19, 257)\n"
     ]
    }
   ],
   "source": [
    "print(train_features.shape, val_features.shape, test_features.shape)"
   ]
  },
  {
   "cell_type": "code",
   "execution_count": 12,
   "id": "05e31f43-0296-4510-8148-d42a4e07600e",
   "metadata": {},
   "outputs": [
    {
     "name": "stdout",
     "output_type": "stream",
     "text": [
      "133 42 49\n"
     ]
    }
   ],
   "source": [
    "print(len(train_labels), len(val_labels), len(test_labels))"
   ]
  },
  {
   "cell_type": "code",
   "execution_count": 13,
   "id": "53e0c5f2-15d0-4fd3-a71e-1531d04aa592",
   "metadata": {},
   "outputs": [
    {
     "name": "stdout",
     "output_type": "stream",
     "text": [
      "328.81693\n"
     ]
    }
   ],
   "source": [
    "print(np.max(train_features))"
   ]
  },
  {
   "cell_type": "markdown",
   "id": "bda52ca5-97c3-4edb-acde-5fd1f868f0c8",
   "metadata": {},
   "source": [
    "### Make Graph "
   ]
  },
  {
   "cell_type": "code",
   "execution_count": 26,
   "id": "02db217d-ebb2-4ae3-b1a2-fce6ed79ed5c",
   "metadata": {},
   "outputs": [
    {
     "name": "stdout",
     "output_type": "stream",
     "text": [
      "Requirement already satisfied: torch in c:\\users\\haiya\\anaconda3\\lib\\site-packages (2.7.1)\n",
      "Collecting torch_geometric\n",
      "  Downloading torch_geometric-2.6.1-py3-none-any.whl.metadata (63 kB)\n",
      "Requirement already satisfied: scipy in c:\\users\\haiya\\anaconda3\\lib\\site-packages (1.13.1)\n",
      "Requirement already satisfied: filelock in c:\\users\\haiya\\anaconda3\\lib\\site-packages (from torch) (3.13.1)\n",
      "Requirement already satisfied: typing-extensions>=4.10.0 in c:\\users\\haiya\\anaconda3\\lib\\site-packages (from torch) (4.11.0)\n",
      "Requirement already satisfied: sympy>=1.13.3 in c:\\users\\haiya\\anaconda3\\lib\\site-packages (from torch) (1.14.0)\n",
      "Requirement already satisfied: networkx in c:\\users\\haiya\\anaconda3\\lib\\site-packages (from torch) (3.3)\n",
      "Requirement already satisfied: jinja2 in c:\\users\\haiya\\anaconda3\\lib\\site-packages (from torch) (3.1.4)\n",
      "Requirement already satisfied: fsspec in c:\\users\\haiya\\anaconda3\\lib\\site-packages (from torch) (2024.6.1)\n",
      "Requirement already satisfied: setuptools in c:\\users\\haiya\\anaconda3\\lib\\site-packages (from torch) (75.1.0)\n",
      "Requirement already satisfied: aiohttp in c:\\users\\haiya\\anaconda3\\lib\\site-packages (from torch_geometric) (3.10.5)\n",
      "Requirement already satisfied: numpy in c:\\users\\haiya\\anaconda3\\lib\\site-packages (from torch_geometric) (1.26.4)\n",
      "Requirement already satisfied: psutil>=5.8.0 in c:\\users\\haiya\\anaconda3\\lib\\site-packages (from torch_geometric) (5.9.0)\n",
      "Requirement already satisfied: pyparsing in c:\\users\\haiya\\anaconda3\\lib\\site-packages (from torch_geometric) (3.1.2)\n",
      "Requirement already satisfied: requests in c:\\users\\haiya\\anaconda3\\lib\\site-packages (from torch_geometric) (2.32.3)\n",
      "Requirement already satisfied: tqdm in c:\\users\\haiya\\anaconda3\\lib\\site-packages (from torch_geometric) (4.66.5)\n",
      "Requirement already satisfied: mpmath<1.4,>=1.1.0 in c:\\users\\haiya\\anaconda3\\lib\\site-packages (from sympy>=1.13.3->torch) (1.3.0)\n",
      "Requirement already satisfied: aiohappyeyeballs>=2.3.0 in c:\\users\\haiya\\anaconda3\\lib\\site-packages (from aiohttp->torch_geometric) (2.4.0)\n",
      "Requirement already satisfied: aiosignal>=1.1.2 in c:\\users\\haiya\\anaconda3\\lib\\site-packages (from aiohttp->torch_geometric) (1.2.0)\n",
      "Requirement already satisfied: attrs>=17.3.0 in c:\\users\\haiya\\anaconda3\\lib\\site-packages (from aiohttp->torch_geometric) (23.1.0)\n",
      "Requirement already satisfied: frozenlist>=1.1.1 in c:\\users\\haiya\\anaconda3\\lib\\site-packages (from aiohttp->torch_geometric) (1.4.0)\n",
      "Requirement already satisfied: multidict<7.0,>=4.5 in c:\\users\\haiya\\anaconda3\\lib\\site-packages (from aiohttp->torch_geometric) (6.0.4)\n",
      "Requirement already satisfied: yarl<2.0,>=1.0 in c:\\users\\haiya\\anaconda3\\lib\\site-packages (from aiohttp->torch_geometric) (1.11.0)\n",
      "Requirement already satisfied: MarkupSafe>=2.0 in c:\\users\\haiya\\anaconda3\\lib\\site-packages (from jinja2->torch) (2.1.3)\n",
      "Requirement already satisfied: charset-normalizer<4,>=2 in c:\\users\\haiya\\anaconda3\\lib\\site-packages (from requests->torch_geometric) (3.3.2)\n",
      "Requirement already satisfied: idna<4,>=2.5 in c:\\users\\haiya\\anaconda3\\lib\\site-packages (from requests->torch_geometric) (3.7)\n",
      "Requirement already satisfied: urllib3<3,>=1.21.1 in c:\\users\\haiya\\anaconda3\\lib\\site-packages (from requests->torch_geometric) (2.2.3)\n",
      "Requirement already satisfied: certifi>=2017.4.17 in c:\\users\\haiya\\anaconda3\\lib\\site-packages (from requests->torch_geometric) (2025.1.31)\n",
      "Requirement already satisfied: colorama in c:\\users\\haiya\\anaconda3\\lib\\site-packages (from tqdm->torch_geometric) (0.4.6)\n",
      "Downloading torch_geometric-2.6.1-py3-none-any.whl (1.1 MB)\n",
      "   ---------------------------------------- 0.0/1.1 MB ? eta -:--:--\n",
      "   ---------------------------------------- 1.1/1.1 MB 28.2 MB/s eta 0:00:00\n",
      "Installing collected packages: torch_geometric\n",
      "Successfully installed torch_geometric-2.6.1\n"
     ]
    }
   ],
   "source": [
    "! pip install torch torch_geometric scipy"
   ]
  },
  {
   "cell_type": "code",
   "execution_count": 45,
   "id": "beb6fbb5-3398-4a45-8e58-224d79b6b1b0",
   "metadata": {},
   "outputs": [],
   "source": [
    "import numpy as np\n",
    "import torch\n",
    "from torch_geometric.data import Data\n",
    "from scipy.signal import coherence          # pip install scipy\n",
    "\n",
    "def make_graphs(features, labels, *, fs=1.0):\n",
    "    \"\"\"\n",
    "    Convert (N, 19, 257) → list[Data].\n",
    "    Node-features:  mean, std, AUC   → (19, 3)\n",
    "    Edge-features:  coherence, covariance\n",
    "    \"\"\"\n",
    "    graphs = []\n",
    "    n_samples, n_nodes, n_time = features.shape\n",
    "    assert n_nodes == 19 and n_time == 257\n",
    "\n",
    "    for i in range(n_samples):\n",
    "        sig = features[i]                                # (19, 257)\n",
    "\n",
    "        # -------- node features ------------------------------------------------\n",
    "        mean = sig.mean(axis=1, keepdims=True)           # (19, 1)\n",
    "        std  = sig.std(axis=1, keepdims=True)            # (19, 1)\n",
    "        auc  = np.trapz(sig, dx=1, axis=1).reshape(-1, 1)  # (19, 1)\n",
    "\n",
    "        x = np.concatenate([mean, std, auc], axis=1)     # (19, 3)\n",
    "\n",
    "        # -------- edge features ------------------------------------------------\n",
    "        edge_idx, edge_attr = [], []\n",
    "        for s in range(n_nodes):\n",
    "            for t in range(s + 1, n_nodes):\n",
    "                # mean-squared coherence (averaged over freqs)\n",
    "                _, Cxy = coherence(sig[s], sig[t], fs=fs, nperseg=128)\n",
    "                coh = Cxy.mean().astype(np.float32)\n",
    "                cov = np.cov(sig[s], sig[t], ddof=0)[0, 1].astype(np.float32)\n",
    "\n",
    "                edge_idx.extend([[s, t], [t, s]])\n",
    "                edge_attr.extend([[coh, cov], [coh, cov]])\n",
    "\n",
    "        edge_index = torch.tensor(edge_idx,  dtype=torch.long).T   # (2, 342)\n",
    "        edge_attr  = torch.tensor(edge_attr, dtype=torch.float32)  # (342, 2)\n",
    "\n",
    "        graphs.append(\n",
    "            Data(x=torch.tensor(x, dtype=torch.float32),\n",
    "                 edge_index=edge_index,\n",
    "                 edge_attr=edge_attr,\n",
    "                 y=torch.tensor(labels[i], dtype=torch.long))\n",
    "        )\n",
    "\n",
    "    return graphs\n"
   ]
  },
  {
   "cell_type": "code",
   "execution_count": 47,
   "id": "aca1fb83-38df-49fe-bc25-a746ba7db0e9",
   "metadata": {},
   "outputs": [],
   "source": [
    "train_graphs = make_graphs(train_features, train_labels)   # 133 graphs\n",
    "val_graphs   = make_graphs(val_features,   val_labels)     #  42 graphs\n",
    "test_graphs  = make_graphs(test_features,  test_labels)    #  49 graphs"
   ]
  },
  {
   "cell_type": "code",
   "execution_count": 51,
   "id": "f8ab4bd5-03e2-4f29-86f2-3f1117931eb0",
   "metadata": {},
   "outputs": [
    {
     "data": {
      "text/plain": [
       "133"
      ]
     },
     "execution_count": 51,
     "metadata": {},
     "output_type": "execute_result"
    }
   ],
   "source": [
    "len(train_graphs)"
   ]
  },
  {
   "cell_type": "code",
   "execution_count": null,
   "id": "fd80f401-bfd0-47df-adac-3e22ab3a8b72",
   "metadata": {},
   "outputs": [],
   "source": []
  },
  {
   "cell_type": "markdown",
   "id": "b5b4b042-8cc0-42e5-87ce-cf86fb8fa802",
   "metadata": {},
   "source": [
    "### ML pipeline"
   ]
  },
  {
   "cell_type": "code",
   "execution_count": 61,
   "id": "1b58c62f-8739-4962-b64a-51fbe939a656",
   "metadata": {},
   "outputs": [
    {
     "name": "stdout",
     "output_type": "stream",
     "text": [
      "Requirement already satisfied: tensorflow in c:\\users\\haiya\\anaconda3\\lib\\site-packages (2.19.0)\n",
      "Collecting spektral\n",
      "  Downloading spektral-1.3.1-py3-none-any.whl.metadata (5.9 kB)\n",
      "Requirement already satisfied: absl-py>=1.0.0 in c:\\users\\haiya\\anaconda3\\lib\\site-packages (from tensorflow) (2.3.0)\n",
      "Requirement already satisfied: astunparse>=1.6.0 in c:\\users\\haiya\\anaconda3\\lib\\site-packages (from tensorflow) (1.6.3)\n",
      "Requirement already satisfied: flatbuffers>=24.3.25 in c:\\users\\haiya\\anaconda3\\lib\\site-packages (from tensorflow) (25.2.10)\n",
      "Requirement already satisfied: gast!=0.5.0,!=0.5.1,!=0.5.2,>=0.2.1 in c:\\users\\haiya\\anaconda3\\lib\\site-packages (from tensorflow) (0.6.0)\n",
      "Requirement already satisfied: google-pasta>=0.1.1 in c:\\users\\haiya\\anaconda3\\lib\\site-packages (from tensorflow) (0.2.0)\n",
      "Requirement already satisfied: libclang>=13.0.0 in c:\\users\\haiya\\anaconda3\\lib\\site-packages (from tensorflow) (18.1.1)\n",
      "Requirement already satisfied: opt-einsum>=2.3.2 in c:\\users\\haiya\\anaconda3\\lib\\site-packages (from tensorflow) (3.4.0)\n",
      "Requirement already satisfied: packaging in c:\\users\\haiya\\anaconda3\\lib\\site-packages (from tensorflow) (24.1)\n",
      "Requirement already satisfied: protobuf!=4.21.0,!=4.21.1,!=4.21.2,!=4.21.3,!=4.21.4,!=4.21.5,<6.0.0dev,>=3.20.3 in c:\\users\\haiya\\anaconda3\\lib\\site-packages (from tensorflow) (4.25.3)\n",
      "Requirement already satisfied: requests<3,>=2.21.0 in c:\\users\\haiya\\anaconda3\\lib\\site-packages (from tensorflow) (2.32.3)\n",
      "Requirement already satisfied: setuptools in c:\\users\\haiya\\anaconda3\\lib\\site-packages (from tensorflow) (75.1.0)\n",
      "Requirement already satisfied: six>=1.12.0 in c:\\users\\haiya\\anaconda3\\lib\\site-packages (from tensorflow) (1.16.0)\n",
      "Requirement already satisfied: termcolor>=1.1.0 in c:\\users\\haiya\\anaconda3\\lib\\site-packages (from tensorflow) (3.1.0)\n",
      "Requirement already satisfied: typing-extensions>=3.6.6 in c:\\users\\haiya\\anaconda3\\lib\\site-packages (from tensorflow) (4.11.0)\n",
      "Requirement already satisfied: wrapt>=1.11.0 in c:\\users\\haiya\\anaconda3\\lib\\site-packages (from tensorflow) (1.14.1)\n",
      "Requirement already satisfied: grpcio<2.0,>=1.24.3 in c:\\users\\haiya\\anaconda3\\lib\\site-packages (from tensorflow) (1.72.1)\n",
      "Requirement already satisfied: tensorboard~=2.19.0 in c:\\users\\haiya\\anaconda3\\lib\\site-packages (from tensorflow) (2.19.0)\n",
      "Requirement already satisfied: keras>=3.5.0 in c:\\users\\haiya\\anaconda3\\lib\\site-packages (from tensorflow) (3.10.0)\n",
      "Requirement already satisfied: numpy<2.2.0,>=1.26.0 in c:\\users\\haiya\\anaconda3\\lib\\site-packages (from tensorflow) (1.26.4)\n",
      "Requirement already satisfied: h5py>=3.11.0 in c:\\users\\haiya\\anaconda3\\lib\\site-packages (from tensorflow) (3.11.0)\n",
      "Requirement already satisfied: ml-dtypes<1.0.0,>=0.5.1 in c:\\users\\haiya\\anaconda3\\lib\\site-packages (from tensorflow) (0.5.1)\n",
      "Requirement already satisfied: joblib in c:\\users\\haiya\\anaconda3\\lib\\site-packages (from spektral) (1.4.2)\n",
      "Requirement already satisfied: lxml in c:\\users\\haiya\\anaconda3\\lib\\site-packages (from spektral) (5.2.1)\n",
      "Requirement already satisfied: networkx in c:\\users\\haiya\\anaconda3\\lib\\site-packages (from spektral) (3.3)\n",
      "Requirement already satisfied: pandas in c:\\users\\haiya\\anaconda3\\lib\\site-packages (from spektral) (2.2.2)\n",
      "Requirement already satisfied: scikit-learn in c:\\users\\haiya\\anaconda3\\lib\\site-packages (from spektral) (1.5.1)\n",
      "Requirement already satisfied: scipy in c:\\users\\haiya\\anaconda3\\lib\\site-packages (from spektral) (1.13.1)\n",
      "Requirement already satisfied: tqdm in c:\\users\\haiya\\anaconda3\\lib\\site-packages (from spektral) (4.66.5)\n",
      "Requirement already satisfied: wheel<1.0,>=0.23.0 in c:\\users\\haiya\\anaconda3\\lib\\site-packages (from astunparse>=1.6.0->tensorflow) (0.44.0)\n",
      "Requirement already satisfied: rich in c:\\users\\haiya\\anaconda3\\lib\\site-packages (from keras>=3.5.0->tensorflow) (13.7.1)\n",
      "Requirement already satisfied: namex in c:\\users\\haiya\\anaconda3\\lib\\site-packages (from keras>=3.5.0->tensorflow) (0.1.0)\n",
      "Requirement already satisfied: optree in c:\\users\\haiya\\anaconda3\\lib\\site-packages (from keras>=3.5.0->tensorflow) (0.16.0)\n",
      "Requirement already satisfied: charset-normalizer<4,>=2 in c:\\users\\haiya\\anaconda3\\lib\\site-packages (from requests<3,>=2.21.0->tensorflow) (3.3.2)\n",
      "Requirement already satisfied: idna<4,>=2.5 in c:\\users\\haiya\\anaconda3\\lib\\site-packages (from requests<3,>=2.21.0->tensorflow) (3.7)\n",
      "Requirement already satisfied: urllib3<3,>=1.21.1 in c:\\users\\haiya\\anaconda3\\lib\\site-packages (from requests<3,>=2.21.0->tensorflow) (2.2.3)\n",
      "Requirement already satisfied: certifi>=2017.4.17 in c:\\users\\haiya\\anaconda3\\lib\\site-packages (from requests<3,>=2.21.0->tensorflow) (2025.1.31)\n",
      "Requirement already satisfied: markdown>=2.6.8 in c:\\users\\haiya\\anaconda3\\lib\\site-packages (from tensorboard~=2.19.0->tensorflow) (3.4.1)\n",
      "Requirement already satisfied: tensorboard-data-server<0.8.0,>=0.7.0 in c:\\users\\haiya\\anaconda3\\lib\\site-packages (from tensorboard~=2.19.0->tensorflow) (0.7.2)\n",
      "Requirement already satisfied: werkzeug>=1.0.1 in c:\\users\\haiya\\anaconda3\\lib\\site-packages (from tensorboard~=2.19.0->tensorflow) (3.0.3)\n",
      "Requirement already satisfied: python-dateutil>=2.8.2 in c:\\users\\haiya\\anaconda3\\lib\\site-packages (from pandas->spektral) (2.9.0.post0)\n",
      "Requirement already satisfied: pytz>=2020.1 in c:\\users\\haiya\\anaconda3\\lib\\site-packages (from pandas->spektral) (2024.1)\n",
      "Requirement already satisfied: tzdata>=2022.7 in c:\\users\\haiya\\anaconda3\\lib\\site-packages (from pandas->spektral) (2023.3)\n",
      "Requirement already satisfied: threadpoolctl>=3.1.0 in c:\\users\\haiya\\anaconda3\\lib\\site-packages (from scikit-learn->spektral) (3.5.0)\n",
      "Requirement already satisfied: colorama in c:\\users\\haiya\\anaconda3\\lib\\site-packages (from tqdm->spektral) (0.4.6)\n",
      "Requirement already satisfied: MarkupSafe>=2.1.1 in c:\\users\\haiya\\anaconda3\\lib\\site-packages (from werkzeug>=1.0.1->tensorboard~=2.19.0->tensorflow) (2.1.3)\n",
      "Requirement already satisfied: markdown-it-py>=2.2.0 in c:\\users\\haiya\\anaconda3\\lib\\site-packages (from rich->keras>=3.5.0->tensorflow) (2.2.0)\n",
      "Requirement already satisfied: pygments<3.0.0,>=2.13.0 in c:\\users\\haiya\\anaconda3\\lib\\site-packages (from rich->keras>=3.5.0->tensorflow) (2.15.1)\n",
      "Requirement already satisfied: mdurl~=0.1 in c:\\users\\haiya\\anaconda3\\lib\\site-packages (from markdown-it-py>=2.2.0->rich->keras>=3.5.0->tensorflow) (0.1.0)\n",
      "Downloading spektral-1.3.1-py3-none-any.whl (140 kB)\n",
      "Installing collected packages: spektral\n",
      "Successfully installed spektral-1.3.1\n"
     ]
    }
   ],
   "source": [
    "! pip install tensorflow spektral"
   ]
  },
  {
   "cell_type": "code",
   "execution_count": 63,
   "id": "b228d2ac-8221-4aa7-80eb-31e566682b03",
   "metadata": {},
   "outputs": [],
   "source": [
    "from tensorflow.keras.utils import to_categorical\n",
    "from tensorflow.keras.models import Sequential\n",
    "from tensorflow.keras.layers import Conv1D, MaxPooling1D, Flatten, Dense, Dropout, BatchNormalization\n",
    "from tensorflow.keras.optimizers import Adam\n",
    "from tensorflow.keras.models import Sequential\n",
    "from tensorflow.keras.layers import Conv2D, BatchNormalization, Dropout, Flatten, Dense, InputLayer\n",
    "import numpy as np\n",
    "import matplotlib.pyplot as plt\n",
    "import seaborn as sns\n",
    "from sklearn.metrics import confusion_matrix, roc_curve, auc, classification_report\n",
    "from sklearn.decomposition import PCA\n",
    "from sklearn.manifold import TSNE\n",
    "from tensorflow.keras.models import Sequential\n",
    "from tensorflow.keras.layers import Conv1D, MaxPooling1D, AveragePooling1D, BatchNormalization\n",
    "from tensorflow.keras.layers import Flatten, Dense, Dropout, InputLayer\n",
    "from tensorflow.keras.optimizers import Adam\n",
    "from tensorflow.keras.regularizers import l2"
   ]
  },
  {
   "cell_type": "code",
   "execution_count": null,
   "id": "e49b906c-8fc2-4d53-87f5-ebbf94ac12d1",
   "metadata": {},
   "outputs": [
    {
     "name": "stdout",
     "output_type": "stream",
     "text": [
      "Epoch 01, Loss: 52.3982, Val Acc: 0.500\n",
      "Epoch 02, Loss: 52.6316, Val Acc: 0.500\n"
     ]
    }
   ],
   "source": [
    "\"\"\"\n",
    "Graph-level EEG classification using PyTorch Geometric (no Spektral)\n",
    "Assumes you already have train_graphs, val_graphs, test_graphs as torch_geometric.data.Data objects.\n",
    "\"\"\"\n",
    "import torch\n",
    "from torch.nn import Linear, Dropout, ReLU, Sigmoid\n",
    "import torch.nn.functional as F\n",
    "from torch_geometric.nn import global_mean_pool, NNConv\n",
    "from torch_geometric.loader import DataLoader\n",
    "from torch_geometric.data import Data\n",
    "\n",
    "# ─────────────────────────────────────────────────────────────\n",
    "# 1. Graph Neural Network definition\n",
    "# ─────────────────────────────────────────────────────────────\n",
    "class EEGGNN(torch.nn.Module):\n",
    "    def __init__(self, in_node_feats=3, edge_feats=2, hidden=64):\n",
    "        super(EEGGNN, self).__init__()\n",
    "        self.nn1 = torch.nn.Sequential(\n",
    "            Linear(edge_feats, hidden * in_node_feats),\n",
    "            ReLU(),\n",
    "            Linear(hidden * in_node_feats, hidden * in_node_feats)\n",
    "        )\n",
    "        self.conv1 = NNConv(in_node_feats, hidden, self.nn1, aggr='mean')\n",
    "\n",
    "        self.nn2 = torch.nn.Sequential(\n",
    "            Linear(edge_feats, hidden * hidden),\n",
    "            ReLU(),\n",
    "            Linear(hidden * hidden, hidden * hidden)\n",
    "        )\n",
    "        self.conv2 = NNConv(hidden, hidden, self.nn2, aggr='mean')\n",
    "\n",
    "        self.dropout = Dropout(0.3)\n",
    "        self.fc1 = Linear(hidden, 64)\n",
    "        self.fc2 = Linear(64, 1)\n",
    "\n",
    "    def forward(self, x, edge_index, edge_attr, batch):\n",
    "        x = F.relu(self.conv1(x, edge_index, edge_attr))\n",
    "        x = F.relu(self.conv2(x, edge_index, edge_attr))\n",
    "        x = global_mean_pool(x, batch)\n",
    "        x = self.dropout(x)\n",
    "        x = F.relu(self.fc1(x))\n",
    "        return torch.sigmoid(self.fc2(x)).squeeze()\n",
    "\n",
    "# ─────────────────────────────────────────────────────────────\n",
    "# 2. Prepare PyG DataLoaders\n",
    "# ─────────────────────────────────────────────────────────────\n",
    "train_loader = DataLoader(train_graphs, batch_size=32, shuffle=True)\n",
    "val_loader   = DataLoader(val_graphs, batch_size=32)\n",
    "test_loader  = DataLoader(test_graphs, batch_size=32)\n",
    "\n",
    "# ─────────────────────────────────────────────────────────────\n",
    "# 3. Train and evaluate functions\n",
    "# ─────────────────────────────────────────────────────────────\n",
    "def train(model, loader, optimizer, loss_fn):\n",
    "    model.train()\n",
    "    total_loss = 0\n",
    "    for batch in loader:\n",
    "        optimizer.zero_grad()\n",
    "        out = model(batch.x, batch.edge_index, batch.edge_attr, batch.batch)\n",
    "        loss = loss_fn(out, batch.y.float())\n",
    "        loss.backward()\n",
    "        optimizer.step()\n",
    "        total_loss += loss.item() * batch.num_graphs\n",
    "    return total_loss / len(loader.dataset)\n",
    "\n",
    "def evaluate(model, loader):\n",
    "    model.eval()\n",
    "    correct = 0\n",
    "    total = 0\n",
    "    with torch.no_grad():\n",
    "        for batch in loader:\n",
    "            out = model(batch.x, batch.edge_index, batch.edge_attr, batch.batch)\n",
    "            preds = (out > 0.5).long()\n",
    "            correct += (preds == batch.y).sum().item()\n",
    "            total += batch.num_graphs\n",
    "    return correct / total\n",
    "\n",
    "# ─────────────────────────────────────────────────────────────\n",
    "# 4. Initialize model, train\n",
    "# ─────────────────────────────────────────────────────────────\n",
    "device = torch.device('cuda' if torch.cuda.is_available() else 'cpu')\n",
    "model = EEGGNN().to(device)\n",
    "optimizer = torch.optim.Adam(model.parameters(), lr=1e-3)\n",
    "loss_fn = torch.nn.BCELoss()\n",
    "\n",
    "for epoch in range(1, 31):\n",
    "    loss = train(model, train_loader, optimizer, loss_fn)\n",
    "    val_acc = evaluate(model, val_loader)\n",
    "    print(f\"Epoch {epoch:02d}, Loss: {loss:.4f}, Val Acc: {val_acc:.3f}\")\n",
    "\n",
    "# ─────────────────────────────────────────────────────────────\n",
    "# 5. Final test evaluation\n",
    "# ─────────────────────────────────────────────────────────────\n",
    "test_acc = evaluate(model, test_loader)\n",
    "print(f\"Test Accuracy: {test_acc:.3f}\")"
   ]
  },
  {
   "cell_type": "code",
   "execution_count": null,
   "id": "24208d40-2648-46ba-8753-99748d7569a8",
   "metadata": {},
   "outputs": [],
   "source": []
  },
  {
   "cell_type": "code",
   "execution_count": null,
   "id": "4e3d284a-1f82-4e60-b093-dba4b21940c2",
   "metadata": {},
   "outputs": [],
   "source": []
  },
  {
   "cell_type": "code",
   "execution_count": null,
   "id": "c15d352d-3f95-40cf-b6a2-7d45e8f87c79",
   "metadata": {},
   "outputs": [],
   "source": []
  },
  {
   "cell_type": "code",
   "execution_count": null,
   "id": "26c9eabc-4f41-4d46-90bf-7295438ac013",
   "metadata": {},
   "outputs": [],
   "source": []
  },
  {
   "cell_type": "code",
   "execution_count": null,
   "id": "350b135b-6f7f-488f-9938-a15ae6df05ae",
   "metadata": {},
   "outputs": [],
   "source": []
  },
  {
   "cell_type": "code",
   "execution_count": 203,
   "id": "9b4100c2-5e03-4cd0-825e-6126bfc6a555",
   "metadata": {},
   "outputs": [
    {
     "name": "stdout",
     "output_type": "stream",
     "text": [
      "\u001b[1m11/11\u001b[0m \u001b[32m━━━━━━━━━━━━━━━━━━━━\u001b[0m\u001b[37m\u001b[0m \u001b[1m1s\u001b[0m 66ms/step\n",
      "Test Accuracy: 85.71%\n"
     ]
    }
   ],
   "source": [
    "from tensorflow.keras.models import load_model\n",
    "\n",
    "# Predict \n",
    "y_pred_probs = model.predict(X_test)\n",
    "\n",
    "# Convert probabilities to class labels\n",
    "y_pred_labels = (y_pred_probs > 0.5).astype(int).flatten()\n",
    "\n",
    "# Compute accuracy\n",
    "accuracy = np.mean(y_pred_labels == y_test_cat)\n",
    "print(f\"Test Accuracy: {accuracy * 100:.2f}%\")\n"
   ]
  },
  {
   "cell_type": "code",
   "execution_count": 204,
   "id": "02b7fa11-c1fd-4526-b4ba-1a26924cd1cc",
   "metadata": {},
   "outputs": [
    {
     "data": {
      "image/png": "[encoded data removed]",
      "text/plain": [
       "<Figure size 640x480 with 2 Axes>"
      ]
     },
     "metadata": {},
     "output_type": "display_data"
    }
   ],
   "source": [
    "from sklearn.metrics import confusion_matrix, ConfusionMatrixDisplay\n",
    "\n",
    "# Compute confusion matrix\n",
    "cm = confusion_matrix(y_test_cat, y_pred_labels)\n",
    "disp = ConfusionMatrixDisplay(confusion_matrix=cm, display_labels=['Healthy', 'AD'])\n",
    "\n",
    "# Plot\n",
    "disp.plot(cmap='viridis')\n",
    "plt.title(\"Confusion Matrix\")\n",
    "plt.show()\n"
   ]
  },
  {
   "cell_type": "code",
   "execution_count": null,
   "id": "af1541e1-5b89-4102-9703-7a2f2eb1e5be",
   "metadata": {},
   "outputs": [],
   "source": []
  },
  {
   "cell_type": "code",
   "execution_count": null,
   "id": "5af53a06-199f-408f-9d29-9ad9e4f24346",
   "metadata": {},
   "outputs": [],
   "source": []
  },
  {
   "cell_type": "code",
   "execution_count": null,
   "id": "5dc531ba-ba18-42fc-952a-e8200bd73d16",
   "metadata": {},
   "outputs": [],
   "source": []
  },
  {
   "cell_type": "code",
   "execution_count": null,
   "id": "998cde8d-9e5e-4242-bdc3-38ba94ccc427",
   "metadata": {},
   "outputs": [],
   "source": []
  },
  {
   "cell_type": "code",
   "execution_count": null,
   "id": "abb5e097-585f-4ffc-ab2a-972fca6633f0",
   "metadata": {},
   "outputs": [],
   "source": []
  },
  {
   "cell_type": "code",
   "execution_count": null,
   "id": "fc32cafd-8445-4de2-8c65-d32fa1fcc6e8",
   "metadata": {},
   "outputs": [],
   "source": []
  },
  {
   "cell_type": "code",
   "execution_count": null,
   "id": "b87efc90-fc68-47f4-9151-5f22317b9fc0",
   "metadata": {},
   "outputs": [],
   "source": []
  },
  {
   "cell_type": "code",
   "execution_count": null,
   "id": "445e8b63-ad5f-4e0b-a3da-5ee3cb67d417",
   "metadata": {},
   "outputs": [],
   "source": []
  },
  {
   "cell_type": "code",
   "execution_count": null,
   "id": "066f41a2-83d6-4761-9384-26c5e9936255",
   "metadata": {},
   "outputs": [],
   "source": []
  },
  {
   "cell_type": "code",
   "execution_count": null,
   "id": "c7860369-59b6-43f8-b3e9-f235bca60c9c",
   "metadata": {},
   "outputs": [],
   "source": []
  },
  {
   "cell_type": "code",
   "execution_count": null,
   "id": "274e3c7b-c86b-44f7-bd1a-d68e5ab46b79",
   "metadata": {},
   "outputs": [],
   "source": []
  },
  {
   "cell_type": "code",
   "execution_count": null,
   "id": "c1b7626c-c88d-4a9e-9991-110e9e6aba5a",
   "metadata": {},
   "outputs": [],
   "source": []
  }
 ],
 "metadata": {
  "kernelspec": {
   "display_name": "Python [conda env:base] *",
   "language": "python",
   "name": "conda-base-py"
  },
  "language_info": {
   "codemirror_mode": {
    "name": "ipython",
    "version": 3
   },
   "file_extension": ".py",
   "mimetype": "text/x-python",
   "name": "python",
   "nbconvert_exporter": "python",
   "pygments_lexer": "ipython3",
   "version": "3.12.3"
  }
 },
 "nbformat": 4,
 "nbformat_minor": 5
}
