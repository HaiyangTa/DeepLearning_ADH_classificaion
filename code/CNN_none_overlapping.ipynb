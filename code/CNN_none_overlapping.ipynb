{
  "cells": [
    {
      "cell_type": "code",
      "execution_count": 2,
      "id": "f6cb2062-5c05-44c5-a458-4a09e7ad07a2",
      "metadata": {
        "id": "f6cb2062-5c05-44c5-a458-4a09e7ad07a2"
      },
      "outputs": [],
      "source": [
        "import os\n",
        "import random\n",
        "import numpy as np\n",
        "import scipy.io\n",
        "from sklearn.model_selection import train_test_split\n",
        "from sklearn.preprocessing import StandardScaler\n",
        "from sklearn.decomposition import PCA\n",
        "from sklearn.metrics import confusion_matrix, roc_curve, auc, classification_report\n",
        "from sklearn.utils import shuffle\n",
        "from sklearn.neural_network import MLPClassifier\n",
        "from sklearn.manifold import TSNE\n",
        "import matplotlib.pyplot as plt\n",
        "import seaborn as sns\n",
        "from scipy.signal import welch"
      ]
    },
    {
      "cell_type": "code",
      "source": [
        "from google.colab import drive\n",
        "drive.mount('/content/drive')"
      ],
      "metadata": {
        "colab": {
          "base_uri": "https://localhost:8080/"
        },
        "id": "DpwPG88a7eE8",
        "outputId": "f35113e9-128c-440c-d8ca-b002b1081b15"
      },
      "id": "DpwPG88a7eE8",
      "execution_count": 3,
      "outputs": [
        {
          "output_type": "stream",
          "name": "stdout",
          "text": [
            "Mounted at /content/drive\n"
          ]
        }
      ]
    },
    {
      "cell_type": "code",
      "source": [
        "import sys\n",
        "# Add the folder to the system path\n",
        "sys.path.append('/content/drive/MyDrive/EEG_f/')\n",
        "# Now you can import the file\n",
        "from read_eeg import get_eeg_info  # or import specific functions, e.g., from read_eeg import read_eeg"
      ],
      "metadata": {
        "id": "xnHElEK47hVC"
      },
      "id": "xnHElEK47hVC",
      "execution_count": 4,
      "outputs": []
    },
    {
      "cell_type": "code",
      "execution_count": 5,
      "id": "f0ee91df-9d5b-47e9-95de-326da5a21098",
      "metadata": {
        "id": "f0ee91df-9d5b-47e9-95de-326da5a21098"
      },
      "outputs": [],
      "source": [
        "def read_egg(path):\n",
        "    mat = scipy.io.loadmat(path)\n",
        "    eeg = mat['transferred_EEG']['trial'][0,0][0,0]  # first trial\n",
        "    return eeg"
      ]
    },
    {
      "cell_type": "code",
      "execution_count": 7,
      "id": "a6e3a70e-62ac-42ae-9bb1-ec5fa795d867",
      "metadata": {
        "id": "a6e3a70e-62ac-42ae-9bb1-ec5fa795d867"
      },
      "outputs": [],
      "source": [
        "# --- Parameters ---\n",
        "healthy_folder = '/content/drive/MyDrive/Data_EEG/Healthy/'\n",
        "ad_folder = '/content/drive/MyDrive/Data_EEG/AD/'\n",
        "\n",
        "fs = 500\n",
        "min_samples = int(1.0 * 60 * fs)\n",
        "max_samples = int(1.0 * 60 * fs)\n",
        "num_segments = 50 # extract 50 segments from each sample!\n",
        "\n",
        "# --- File Loading ---\n",
        "ad_files = [f for f in os.listdir(ad_folder)]\n",
        "healthy_files = [f for f in os.listdir(healthy_folder)]\n",
        "\n",
        "random.seed(1)\n",
        "random.shuffle(ad_files)\n",
        "random.shuffle(healthy_files)\n",
        "\n",
        "AD_data = {}\n",
        "heal_data = {}\n",
        "\n",
        "for i in ad_files:\n",
        "    egg = read_egg(ad_folder + i)\n",
        "    AD_data[i + '_AD'] = egg\n",
        "\n",
        "for i in healthy_files:\n",
        "    egg = read_egg(healthy_folder + i)\n",
        "    heal_data[i+ '_healthy'] = egg"
      ]
    },
    {
      "cell_type": "code",
      "execution_count": 8,
      "id": "d9b8b51d-8b48-4279-ae40-a1505410ed7f",
      "metadata": {
        "id": "d9b8b51d-8b48-4279-ae40-a1505410ed7f"
      },
      "outputs": [],
      "source": [
        "def split_dict_with_sklearn(data_dict, seed=42):\n",
        "    keys = list(data_dict.keys())\n",
        "\n",
        "    # First: split into train (80%) and temp (20%)\n",
        "    train_keys, temp_keys = train_test_split(keys, test_size=0.4, random_state=seed)\n",
        "\n",
        "    # Second: split temp into val (10%) and test (10%)\n",
        "    val_keys, test_keys = train_test_split(temp_keys, test_size=0.5, random_state=seed)\n",
        "\n",
        "    # Reconstruct dictionaries\n",
        "    train = {k: data_dict[k] for k in train_keys}\n",
        "    val   = {k: data_dict[k] for k in val_keys}\n",
        "    test  = {k: data_dict[k] for k in test_keys}\n",
        "    return train, val, test"
      ]
    },
    {
      "cell_type": "code",
      "execution_count": 9,
      "id": "f705b33c-b4c2-46ce-921f-ae332e38bbda",
      "metadata": {
        "id": "f705b33c-b4c2-46ce-921f-ae332e38bbda",
        "colab": {
          "base_uri": "https://localhost:8080/"
        },
        "outputId": "a0a56a5a-1899-4a97-a4ef-af62e22d02af"
      },
      "outputs": [
        {
          "output_type": "stream",
          "name": "stdout",
          "text": [
            "Train size: 19, Val: 6, Test: 7\n"
          ]
        }
      ],
      "source": [
        "# Apply to each class\n",
        "ad_train, ad_val, ad_test = split_dict_with_sklearn(AD_data)\n",
        "hl_train, hl_val, hl_test = split_dict_with_sklearn(heal_data)\n",
        "\n",
        "# Combine class-wise splits\n",
        "train_rd = {**ad_train, **hl_train}\n",
        "val_rd   = {**ad_val, **hl_val}\n",
        "test_rd  = {**ad_test, **hl_test}\n",
        "\n",
        "print(f\"Train size: {len(train_rd)}, Val: {len(val_rd)}, Test: {len(test_rd)}\")"
      ]
    },
    {
      "cell_type": "code",
      "source": [
        "max_samples"
      ],
      "metadata": {
        "colab": {
          "base_uri": "https://localhost:8080/"
        },
        "id": "rIs6FKNX8SvD",
        "outputId": "9ded3cd9-482e-4e19-cc46-58ad0c83ee3e"
      },
      "id": "rIs6FKNX8SvD",
      "execution_count": 16,
      "outputs": [
        {
          "output_type": "execute_result",
          "data": {
            "text/plain": [
              "30000"
            ]
          },
          "metadata": {},
          "execution_count": 16
        }
      ]
    },
    {
      "cell_type": "code",
      "execution_count": 12,
      "id": "d6d8a9fb-0baf-4fdb-be92-6baedd338947",
      "metadata": {
        "id": "d6d8a9fb-0baf-4fdb-be92-6baedd338947"
      },
      "outputs": [],
      "source": [
        "def segment_subjects_non_overlapping(data_dict, segment_len):\n",
        "    segments = []\n",
        "    labels = []\n",
        "    for k, eeg in data_dict.items():\n",
        "        total_samples = eeg.shape[1]\n",
        "        print(total_samples)\n",
        "        num_segments = total_samples // segment_len  # Only full-length segments\n",
        "\n",
        "        for i in range(num_segments):\n",
        "            start = i * segment_len\n",
        "            end = start + segment_len\n",
        "            segment = eeg[:, start:end]\n",
        "            segments.append(segment)\n",
        "            labels.append(1 if '_AD' in k else 0)\n",
        "\n",
        "    return segments, labels"
      ]
    },
    {
      "cell_type": "code",
      "execution_count": 13,
      "id": "a25dfc6e-a671-4f95-8530-3519bc7cb3e9",
      "metadata": {
        "id": "a25dfc6e-a671-4f95-8530-3519bc7cb3e9"
      },
      "outputs": [],
      "source": [
        "#bands = {'Delta': (1, 4), 'Theta': (4, 8), 'Alpha': (8, 13), 'Beta': (13, 30), 'Gamma': (30, 70)}\n",
        "def extract_features(eeg_data, fs):\n",
        "    features = []\n",
        "    for seg in eeg_data:\n",
        "        feature = []\n",
        "        for ch in seg:\n",
        "            f, pxx = welch(ch, fs=fs, window='hamming', nperseg=512, noverlap=256, nfft=512) # sliding window that has size of 256 units.\n",
        "            feature.append(np.array(pxx))\n",
        "        features.append(np.array(feature))\n",
        "    print(np.array(features).shape)\n",
        "    return np.array(features)"
      ]
    },
    {
      "cell_type": "code",
      "execution_count": 15,
      "id": "c5fc8499-7ba9-498d-b87f-613bd0ec410c",
      "metadata": {
        "id": "c5fc8499-7ba9-498d-b87f-613bd0ec410c",
        "colab": {
          "base_uri": "https://localhost:8080/"
        },
        "outputId": "9bb92ece-2b1b-45e8-fcd2-a0b9494cddb1"
      },
      "outputs": [
        {
          "output_type": "stream",
          "name": "stdout",
          "text": [
            "210000\n",
            "210000\n",
            "210000\n",
            "210000\n",
            "210000\n",
            "210000\n",
            "210000\n",
            "210000\n",
            "210000\n",
            "209500\n",
            "210000\n",
            "202500\n",
            "210000\n",
            "210000\n",
            "210000\n",
            "210000\n",
            "210000\n",
            "210000\n",
            "210000\n",
            "210000\n",
            "215000\n",
            "210000\n",
            "210000\n",
            "210000\n",
            "210000\n",
            "210000\n",
            "210000\n",
            "210000\n",
            "210000\n",
            "210000\n",
            "210000\n",
            "210000\n",
            "(131, 19, 257)\n",
            "(42, 19, 257)\n",
            "(49, 19, 257)\n"
          ]
        }
      ],
      "source": [
        "# --- Process Data ---\n",
        "train_data, train_labels = segment_subjects_non_overlapping(train_rd, max_samples)\n",
        "val_data, val_labels = segment_subjects_non_overlapping(val_rd, max_samples)\n",
        "test_data, test_labels = segment_subjects_non_overlapping(test_rd, max_samples)\n",
        "\n",
        "# Balance train set to make both ==\n",
        "#train_data, train_labels = shuffle(train_data, train_labels, random_state=1)\n",
        "#ad_idx = [i for i, l in enumerate(train_labels) if l == 1]\n",
        "#hl_idx = [i for i, l in enumerate(train_labels) if l == 0]\n",
        "#min_class = min(len(ad_idx), len(hl_idx))\n",
        "#sel_idx = ad_idx[:min_class] + hl_idx[:min_class]\n",
        "#train_data = [train_data[i] for i in sel_idx]\n",
        "#train_labels = [train_labels[i] for i in sel_idx]\n",
        "\n",
        "# Feature extraction\n",
        "train_features = extract_features(train_data, fs)\n",
        "val_features = extract_features(val_data, fs)\n",
        "test_features = extract_features(test_data, fs)"
      ]
    },
    {
      "cell_type": "code",
      "execution_count": 17,
      "id": "96419292-abbc-46e7-b755-5b2a256e0a2e",
      "metadata": {
        "id": "96419292-abbc-46e7-b755-5b2a256e0a2e",
        "colab": {
          "base_uri": "https://localhost:8080/"
        },
        "outputId": "a980df76-3e7e-40cc-c922-ceb7412a9b30"
      },
      "outputs": [
        {
          "output_type": "stream",
          "name": "stdout",
          "text": [
            "(131, 19, 257) (42, 19, 257) (49, 19, 257)\n"
          ]
        }
      ],
      "source": [
        "print(train_features.shape, val_features.shape, test_features.shape)"
      ]
    },
    {
      "cell_type": "code",
      "execution_count": 18,
      "id": "05e31f43-0296-4510-8148-d42a4e07600e",
      "metadata": {
        "id": "05e31f43-0296-4510-8148-d42a4e07600e",
        "colab": {
          "base_uri": "https://localhost:8080/"
        },
        "outputId": "86f012d4-362b-458a-c3cf-594b9f13b597"
      },
      "outputs": [
        {
          "output_type": "stream",
          "name": "stdout",
          "text": [
            "131 42 49\n"
          ]
        }
      ],
      "source": [
        "print(len(train_labels), len(val_labels), len(test_labels))"
      ]
    },
    {
      "cell_type": "code",
      "execution_count": 19,
      "id": "53e0c5f2-15d0-4fd3-a71e-1531d04aa592",
      "metadata": {
        "id": "53e0c5f2-15d0-4fd3-a71e-1531d04aa592",
        "colab": {
          "base_uri": "https://localhost:8080/"
        },
        "outputId": "9433adca-9117-41a5-9873-f6c5418bbeee"
      },
      "outputs": [
        {
          "output_type": "stream",
          "name": "stdout",
          "text": [
            "328.81693\n"
          ]
        }
      ],
      "source": [
        "print(np.max(train_features))"
      ]
    },
    {
      "cell_type": "markdown",
      "id": "665bd623-2637-4e5e-8ba1-a0221142d49c",
      "metadata": {
        "id": "665bd623-2637-4e5e-8ba1-a0221142d49c"
      },
      "source": [
        "### Data Normalizaion"
      ]
    },
    {
      "cell_type": "code",
      "execution_count": null,
      "id": "8b6d7611-b09f-4ee6-9a0d-8572649e657a",
      "metadata": {
        "id": "8b6d7611-b09f-4ee6-9a0d-8572649e657a"
      },
      "outputs": [],
      "source": [
        "def data_normalization(data):\n",
        "    maxx = np.max(data)\n",
        "    re = np.zeros((data.shape))\n",
        "    for i in range(0, data.shape[0]):\n",
        "        for j in range(0, data.shape[1]):\n",
        "            re[i, j, :] = data[i, j, :] / maxx\n",
        "    return re"
      ]
    },
    {
      "cell_type": "code",
      "execution_count": null,
      "id": "14875991-4b94-4df6-8f8a-9485596f6256",
      "metadata": {
        "id": "14875991-4b94-4df6-8f8a-9485596f6256"
      },
      "outputs": [],
      "source": [
        "train_features = data_normalization(train_features)\n",
        "val_features = data_normalization(val_features)\n",
        "test_features = data_normalization(test_features)"
      ]
    },
    {
      "cell_type": "code",
      "execution_count": null,
      "id": "fd80f401-bfd0-47df-adac-3e22ab3a8b72",
      "metadata": {
        "id": "fd80f401-bfd0-47df-adac-3e22ab3a8b72"
      },
      "outputs": [],
      "source": []
    },
    {
      "cell_type": "markdown",
      "id": "b5b4b042-8cc0-42e5-87ce-cf86fb8fa802",
      "metadata": {
        "id": "b5b4b042-8cc0-42e5-87ce-cf86fb8fa802"
      },
      "source": [
        "### ML pipeline"
      ]
    },
    {
      "cell_type": "code",
      "execution_count": 20,
      "id": "b228d2ac-8221-4aa7-80eb-31e566682b03",
      "metadata": {
        "id": "b228d2ac-8221-4aa7-80eb-31e566682b03"
      },
      "outputs": [],
      "source": [
        "from tensorflow.keras.utils import to_categorical\n",
        "from tensorflow.keras.models import Sequential\n",
        "from tensorflow.keras.layers import Conv1D, MaxPooling1D, Flatten, Dense, Dropout, BatchNormalization\n",
        "from tensorflow.keras.optimizers import Adam\n",
        "from tensorflow.keras.models import Sequential\n",
        "from tensorflow.keras.layers import Conv2D, BatchNormalization, Dropout, Flatten, Dense, InputLayer\n",
        "import numpy as np\n",
        "import matplotlib.pyplot as plt\n",
        "import seaborn as sns\n",
        "from sklearn.metrics import confusion_matrix, roc_curve, auc, classification_report\n",
        "from sklearn.decomposition import PCA\n",
        "from sklearn.manifold import TSNE\n",
        "from tensorflow.keras.models import Sequential\n",
        "from tensorflow.keras.layers import Conv1D, MaxPooling1D, AveragePooling1D, BatchNormalization\n",
        "from tensorflow.keras.layers import Flatten, Dense, Dropout, InputLayer\n",
        "from tensorflow.keras.optimizers import Adam\n",
        "from tensorflow.keras.regularizers import l2\n"
      ]
    },
    {
      "cell_type": "code",
      "execution_count": 21,
      "id": "eafd0faf-d8c6-48ec-936d-9121b45e5d22",
      "metadata": {
        "id": "eafd0faf-d8c6-48ec-936d-9121b45e5d22"
      },
      "outputs": [],
      "source": [
        "X_train = np.transpose(train_features, (0, 2, 1))\n",
        "X_val   = np.transpose(val_features, (0, 2, 1))\n",
        "X_test  = np.transpose(test_features, (0, 2, 1))"
      ]
    },
    {
      "cell_type": "code",
      "execution_count": 22,
      "id": "78156c18-e48b-4837-ad54-0ad711d82f97",
      "metadata": {
        "id": "78156c18-e48b-4837-ad54-0ad711d82f97"
      },
      "outputs": [],
      "source": [
        "y_train_cat = np.array(train_labels)\n",
        "y_val_cat   = np.array(val_labels)\n",
        "y_test_cat  = np.array(test_labels)"
      ]
    },
    {
      "cell_type": "code",
      "execution_count": 31,
      "id": "acab714f-fdec-4298-ab11-0bd45f1cb7b2",
      "metadata": {
        "id": "acab714f-fdec-4298-ab11-0bd45f1cb7b2",
        "colab": {
          "base_uri": "https://localhost:8080/"
        },
        "outputId": "07015cc4-27df-4a17-95c2-0ea062ec8335"
      },
      "outputs": [
        {
          "output_type": "execute_result",
          "data": {
            "text/plain": [
              "(49, 257, 19)"
            ]
          },
          "metadata": {},
          "execution_count": 31
        }
      ],
      "source": [
        "X_test.shape"
      ]
    },
    {
      "cell_type": "code",
      "execution_count": 24,
      "id": "df27e6ac-f40a-4f7c-8d67-8f6632b19ded",
      "metadata": {
        "id": "df27e6ac-f40a-4f7c-8d67-8f6632b19ded",
        "colab": {
          "base_uri": "https://localhost:8080/"
        },
        "outputId": "013d60a9-f307-4433-94d6-cda772e88032"
      },
      "outputs": [
        {
          "output_type": "stream",
          "name": "stderr",
          "text": [
            "/usr/local/lib/python3.11/dist-packages/keras/src/layers/core/input_layer.py:27: UserWarning: Argument `input_shape` is deprecated. Use `shape` instead.\n",
            "  warnings.warn(\n"
          ]
        }
      ],
      "source": [
        "from tensorflow.keras.models import Sequential\n",
        "from tensorflow.keras.layers import InputLayer, Conv2D, MaxPooling2D, BatchNormalization, Dropout, Flatten, Dense\n",
        "\n",
        "model = Sequential([\n",
        "    InputLayer(input_shape=(19, 257, 1)),  # height=19, width=257, 1 channel\n",
        "\n",
        "    Conv2D(64, kernel_size=(3, 3), activation='relu', padding='same'),\n",
        "    BatchNormalization(),\n",
        "    MaxPooling2D(pool_size=(2, 2)),\n",
        "    Dropout(0.3),\n",
        "\n",
        "    Conv2D(64, kernel_size=(3, 3), activation='relu', padding='same'),\n",
        "    BatchNormalization(),\n",
        "    MaxPooling2D(pool_size=(2, 2)),\n",
        "    Dropout(0.3),\n",
        "\n",
        "    Flatten(),\n",
        "    Dense(64, activation='relu'),\n",
        "    Dropout(0.3),\n",
        "    Dense(1, activation='sigmoid')  # Binary output\n",
        "])\n"
      ]
    },
    {
      "cell_type": "code",
      "execution_count": 25,
      "id": "89e95a38-39ed-4593-af20-84da363a35bb",
      "metadata": {
        "scrolled": true,
        "id": "89e95a38-39ed-4593-af20-84da363a35bb",
        "colab": {
          "base_uri": "https://localhost:8080/"
        },
        "outputId": "cd949979-1bde-4cce-f194-52fb675ea9c2"
      },
      "outputs": [
        {
          "output_type": "stream",
          "name": "stdout",
          "text": [
            "Epoch 1/100\n",
            "\u001b[1m5/5\u001b[0m \u001b[32m━━━━━━━━━━━━━━━━━━━━\u001b[0m\u001b[37m\u001b[0m \u001b[1m0s\u001b[0m 1s/step - accuracy: 0.5647 - loss: 1.7868 \n",
            "Epoch 1: val_accuracy improved from -inf to 0.38095, saving model to best_model.h5\n"
          ]
        },
        {
          "output_type": "stream",
          "name": "stderr",
          "text": [
            "WARNING:absl:You are saving your model as an HDF5 file via `model.save()` or `keras.saving.save_model(model)`. This file format is considered legacy. We recommend using instead the native Keras format, e.g. `model.save('my_model.keras')` or `keras.saving.save_model(model, 'my_model.keras')`. \n"
          ]
        },
        {
          "output_type": "stream",
          "name": "stdout",
          "text": [
            "\b\b\b\b\b\b\b\b\b\b\b\b\b\b\b\b\b\b\b\b\b\b\b\b\b\b\b\b\b\b\b\b\b\b\b\b\b\b\b\b\b\b\b\b\b\b\b\b\b\b\b\b\b\b\b\b\b\b\b\b\b\b\b\b\b\b\b\b\b\r\u001b[1m5/5\u001b[0m \u001b[32m━━━━━━━━━━━━━━━━━━━━\u001b[0m\u001b[37m\u001b[0m \u001b[1m15s\u001b[0m 2s/step - accuracy: 0.5584 - loss: 1.7874 - val_accuracy: 0.3810 - val_loss: 0.9238\n",
            "Epoch 2/100\n",
            "\u001b[1m1/5\u001b[0m \u001b[32m━━━━\u001b[0m\u001b[37m━━━━━━━━━━━━━━━━\u001b[0m \u001b[1m35s\u001b[0m 9s/step - accuracy: 0.4375 - loss: 2.2631\n",
            "Epoch 2: val_accuracy did not improve from 0.38095\n",
            "\u001b[1m5/5\u001b[0m \u001b[32m━━━━━━━━━━━━━━━━━━━━\u001b[0m\u001b[37m\u001b[0m \u001b[1m9s\u001b[0m 33ms/step - accuracy: 0.4956 - loss: 1.8471 - val_accuracy: 0.2619 - val_loss: 0.9243\n",
            "Epoch 3/100\n",
            "\u001b[1m1/5\u001b[0m \u001b[32m━━━━\u001b[0m\u001b[37m━━━━━━━━━━━━━━━━\u001b[0m \u001b[1m0s\u001b[0m 164ms/step - accuracy: 0.4062 - loss: 1.8959\n",
            "Epoch 3: val_accuracy did not improve from 0.38095\n",
            "\u001b[1m5/5\u001b[0m \u001b[32m━━━━━━━━━━━━━━━━━━━━\u001b[0m\u001b[37m\u001b[0m \u001b[1m0s\u001b[0m 30ms/step - accuracy: 0.4422 - loss: 1.6563 - val_accuracy: 0.2143 - val_loss: 0.9236\n",
            "Epoch 4/100\n",
            "\u001b[1m1/5\u001b[0m \u001b[32m━━━━\u001b[0m\u001b[37m━━━━━━━━━━━━━━━━\u001b[0m \u001b[1m0s\u001b[0m 174ms/step - accuracy: 0.6250 - loss: 1.1146\n",
            "Epoch 4: val_accuracy did not improve from 0.38095\n",
            "\u001b[1m5/5\u001b[0m \u001b[32m━━━━━━━━━━━━━━━━━━━━\u001b[0m\u001b[37m\u001b[0m \u001b[1m0s\u001b[0m 32ms/step - accuracy: 0.5475 - loss: 1.3572 - val_accuracy: 0.1190 - val_loss: 0.9179\n",
            "Epoch 5/100\n",
            "\u001b[1m1/5\u001b[0m \u001b[32m━━━━\u001b[0m\u001b[37m━━━━━━━━━━━━━━━━\u001b[0m \u001b[1m0s\u001b[0m 169ms/step - accuracy: 0.4375 - loss: 1.3269\n",
            "Epoch 5: val_accuracy did not improve from 0.38095\n",
            "\u001b[1m5/5\u001b[0m \u001b[32m━━━━━━━━━━━━━━━━━━━━\u001b[0m\u001b[37m\u001b[0m \u001b[1m0s\u001b[0m 38ms/step - accuracy: 0.4637 - loss: 1.3116 - val_accuracy: 0.0476 - val_loss: 0.9081\n",
            "Epoch 6/100\n",
            "\u001b[1m1/5\u001b[0m \u001b[32m━━━━\u001b[0m\u001b[37m━━━━━━━━━━━━━━━━\u001b[0m \u001b[1m0s\u001b[0m 147ms/step - accuracy: 0.5000 - loss: 1.0901\n",
            "Epoch 6: val_accuracy did not improve from 0.38095\n",
            "\u001b[1m5/5\u001b[0m \u001b[32m━━━━━━━━━━━━━━━━━━━━\u001b[0m\u001b[37m\u001b[0m \u001b[1m0s\u001b[0m 29ms/step - accuracy: 0.4758 - loss: 1.2496 - val_accuracy: 0.0238 - val_loss: 0.8966\n",
            "Epoch 7/100\n",
            "\u001b[1m1/5\u001b[0m \u001b[32m━━━━\u001b[0m\u001b[37m━━━━━━━━━━━━━━━━\u001b[0m \u001b[1m0s\u001b[0m 35ms/step - accuracy: 0.5000 - loss: 1.4273\n",
            "Epoch 7: val_accuracy did not improve from 0.38095\n",
            "\u001b[1m5/5\u001b[0m \u001b[32m━━━━━━━━━━━━━━━━━━━━\u001b[0m\u001b[37m\u001b[0m \u001b[1m0s\u001b[0m 37ms/step - accuracy: 0.4966 - loss: 1.2952 - val_accuracy: 0.0476 - val_loss: 0.8800\n",
            "Epoch 8/100\n",
            "\u001b[1m1/5\u001b[0m \u001b[32m━━━━\u001b[0m\u001b[37m━━━━━━━━━━━━━━━━\u001b[0m \u001b[1m0s\u001b[0m 148ms/step - accuracy: 0.2812 - loss: 1.4848\n",
            "Epoch 8: val_accuracy did not improve from 0.38095\n",
            "\u001b[1m5/5\u001b[0m \u001b[32m━━━━━━━━━━━━━━━━━━━━\u001b[0m\u001b[37m\u001b[0m \u001b[1m0s\u001b[0m 37ms/step - accuracy: 0.3739 - loss: 1.2590 - val_accuracy: 0.0952 - val_loss: 0.8632\n",
            "Epoch 9/100\n",
            "\u001b[1m1/5\u001b[0m \u001b[32m━━━━\u001b[0m\u001b[37m━━━━━━━━━━━━━━━━\u001b[0m \u001b[1m0s\u001b[0m 40ms/step - accuracy: 0.4688 - loss: 1.6385\n",
            "Epoch 9: val_accuracy did not improve from 0.38095\n",
            "\u001b[1m5/5\u001b[0m \u001b[32m━━━━━━━━━━━━━━━━━━━━\u001b[0m\u001b[37m\u001b[0m \u001b[1m0s\u001b[0m 38ms/step - accuracy: 0.4956 - loss: 1.2211 - val_accuracy: 0.1667 - val_loss: 0.8432\n",
            "Epoch 10/100\n",
            "\u001b[1m1/5\u001b[0m \u001b[32m━━━━\u001b[0m\u001b[37m━━━━━━━━━━━━━━━━\u001b[0m \u001b[1m0s\u001b[0m 43ms/step - accuracy: 0.5312 - loss: 0.9762\n",
            "Epoch 10: val_accuracy did not improve from 0.38095\n",
            "\u001b[1m5/5\u001b[0m \u001b[32m━━━━━━━━━━━━━━━━━━━━\u001b[0m\u001b[37m\u001b[0m \u001b[1m0s\u001b[0m 39ms/step - accuracy: 0.5318 - loss: 0.9233 - val_accuracy: 0.1667 - val_loss: 0.8255\n",
            "Epoch 11/100\n",
            "\u001b[1m1/5\u001b[0m \u001b[32m━━━━\u001b[0m\u001b[37m━━━━━━━━━━━━━━━━\u001b[0m \u001b[1m0s\u001b[0m 140ms/step - accuracy: 0.4688 - loss: 1.6132\n",
            "Epoch 11: val_accuracy did not improve from 0.38095\n",
            "\u001b[1m5/5\u001b[0m \u001b[32m━━━━━━━━━━━━━━━━━━━━\u001b[0m\u001b[37m\u001b[0m \u001b[1m0s\u001b[0m 38ms/step - accuracy: 0.4568 - loss: 1.3448 - val_accuracy: 0.2619 - val_loss: 0.8013\n",
            "Epoch 12/100\n",
            "\u001b[1m1/5\u001b[0m \u001b[32m━━━━\u001b[0m\u001b[37m━━━━━━━━━━━━━━━━\u001b[0m \u001b[1m0s\u001b[0m 49ms/step - accuracy: 0.4375 - loss: 1.3005\n",
            "Epoch 12: val_accuracy did not improve from 0.38095\n",
            "\u001b[1m5/5\u001b[0m \u001b[32m━━━━━━━━━━━━━━━━━━━━\u001b[0m\u001b[37m\u001b[0m \u001b[1m0s\u001b[0m 26ms/step - accuracy: 0.5511 - loss: 1.0390 - val_accuracy: 0.2857 - val_loss: 0.7754\n",
            "Epoch 13/100\n",
            "\u001b[1m1/5\u001b[0m \u001b[32m━━━━\u001b[0m\u001b[37m━━━━━━━━━━━━━━━━\u001b[0m \u001b[1m0s\u001b[0m 28ms/step - accuracy: 0.5312 - loss: 1.1285\n",
            "Epoch 13: val_accuracy did not improve from 0.38095\n",
            "\u001b[1m5/5\u001b[0m \u001b[32m━━━━━━━━━━━━━━━━━━━━\u001b[0m\u001b[37m\u001b[0m \u001b[1m0s\u001b[0m 22ms/step - accuracy: 0.5271 - loss: 1.0798 - val_accuracy: 0.2619 - val_loss: 0.7542\n",
            "Epoch 14/100\n",
            "\u001b[1m1/5\u001b[0m \u001b[32m━━━━\u001b[0m\u001b[37m━━━━━━━━━━━━━━━━\u001b[0m \u001b[1m0s\u001b[0m 50ms/step - accuracy: 0.6250 - loss: 0.8856\n",
            "Epoch 14: val_accuracy did not improve from 0.38095\n",
            "\u001b[1m5/5\u001b[0m \u001b[32m━━━━━━━━━━━━━━━━━━━━\u001b[0m\u001b[37m\u001b[0m \u001b[1m0s\u001b[0m 22ms/step - accuracy: 0.5698 - loss: 1.0286 - val_accuracy: 0.2857 - val_loss: 0.7378\n",
            "Epoch 15/100\n",
            "\u001b[1m1/5\u001b[0m \u001b[32m━━━━\u001b[0m\u001b[37m━━━━━━━━━━━━━━━━\u001b[0m \u001b[1m0s\u001b[0m 28ms/step - accuracy: 0.4375 - loss: 0.8734\n",
            "Epoch 15: val_accuracy did not improve from 0.38095\n",
            "\u001b[1m5/5\u001b[0m \u001b[32m━━━━━━━━━━━━━━━━━━━━\u001b[0m\u001b[37m\u001b[0m \u001b[1m0s\u001b[0m 22ms/step - accuracy: 0.4899 - loss: 1.0582 - val_accuracy: 0.3571 - val_loss: 0.7262\n",
            "Epoch 16/100\n",
            "\u001b[1m1/5\u001b[0m \u001b[32m━━━━\u001b[0m\u001b[37m━━━━━━━━━━━━━━━━\u001b[0m \u001b[1m0s\u001b[0m 27ms/step - accuracy: 0.5625 - loss: 0.7995\n",
            "Epoch 16: val_accuracy did not improve from 0.38095\n",
            "\u001b[1m5/5\u001b[0m \u001b[32m━━━━━━━━━━━━━━━━━━━━\u001b[0m\u001b[37m\u001b[0m \u001b[1m0s\u001b[0m 22ms/step - accuracy: 0.5134 - loss: 0.9427 - val_accuracy: 0.3571 - val_loss: 0.7154\n",
            "Epoch 17/100\n",
            "\u001b[1m1/5\u001b[0m \u001b[32m━━━━\u001b[0m\u001b[37m━━━━━━━━━━━━━━━━\u001b[0m \u001b[1m0s\u001b[0m 29ms/step - accuracy: 0.6875 - loss: 0.7314\n",
            "Epoch 17: val_accuracy improved from 0.38095 to 0.40476, saving model to best_model.h5\n"
          ]
        },
        {
          "output_type": "stream",
          "name": "stderr",
          "text": [
            "WARNING:absl:You are saving your model as an HDF5 file via `model.save()` or `keras.saving.save_model(model)`. This file format is considered legacy. We recommend using instead the native Keras format, e.g. `model.save('my_model.keras')` or `keras.saving.save_model(model, 'my_model.keras')`. \n"
          ]
        },
        {
          "output_type": "stream",
          "name": "stdout",
          "text": [
            "\b\b\b\b\b\b\b\b\b\b\b\b\b\b\b\b\b\b\b\b\b\b\b\b\b\b\b\b\b\b\b\b\b\b\b\b\b\b\b\b\b\b\b\b\b\b\b\b\b\b\b\b\b\b\b\b\b\b\b\b\b\b\b\b\b\b\b\b\b\b\b\r\u001b[1m5/5\u001b[0m \u001b[32m━━━━━━━━━━━━━━━━━━━━\u001b[0m\u001b[37m\u001b[0m \u001b[1m0s\u001b[0m 37ms/step - accuracy: 0.6917 - loss: 0.7979 - val_accuracy: 0.4048 - val_loss: 0.7067\n",
            "Epoch 18/100\n",
            "\u001b[1m1/5\u001b[0m \u001b[32m━━━━\u001b[0m\u001b[37m━━━━━━━━━━━━━━━━\u001b[0m \u001b[1m0s\u001b[0m 147ms/step - accuracy: 0.5312 - loss: 1.4132\n",
            "Epoch 18: val_accuracy did not improve from 0.40476\n",
            "\u001b[1m5/5\u001b[0m \u001b[32m━━━━━━━━━━━━━━━━━━━━\u001b[0m\u001b[37m\u001b[0m \u001b[1m0s\u001b[0m 25ms/step - accuracy: 0.6041 - loss: 1.1513 - val_accuracy: 0.4048 - val_loss: 0.7001\n",
            "Epoch 19/100\n",
            "\u001b[1m1/5\u001b[0m \u001b[32m━━━━\u001b[0m\u001b[37m━━━━━━━━━━━━━━━━\u001b[0m \u001b[1m0s\u001b[0m 27ms/step - accuracy: 0.4688 - loss: 1.1483\n",
            "Epoch 19: val_accuracy improved from 0.40476 to 0.47619, saving model to best_model.h5\n"
          ]
        },
        {
          "output_type": "stream",
          "name": "stderr",
          "text": [
            "WARNING:absl:You are saving your model as an HDF5 file via `model.save()` or `keras.saving.save_model(model)`. This file format is considered legacy. We recommend using instead the native Keras format, e.g. `model.save('my_model.keras')` or `keras.saving.save_model(model, 'my_model.keras')`. \n"
          ]
        },
        {
          "output_type": "stream",
          "name": "stdout",
          "text": [
            "\b\b\b\b\b\b\b\b\b\b\b\b\b\b\b\b\b\b\b\b\b\b\b\b\b\b\b\b\b\b\b\b\b\b\b\b\b\b\b\b\b\b\b\b\b\b\b\b\b\b\b\b\b\b\b\b\b\b\b\b\b\b\b\b\b\b\b\b\b\b\b\r\u001b[1m5/5\u001b[0m \u001b[32m━━━━━━━━━━━━━━━━━━━━\u001b[0m\u001b[37m\u001b[0m \u001b[1m0s\u001b[0m 36ms/step - accuracy: 0.5121 - loss: 1.0265 - val_accuracy: 0.4762 - val_loss: 0.6920\n",
            "Epoch 20/100\n",
            "\u001b[1m1/5\u001b[0m \u001b[32m━━━━\u001b[0m\u001b[37m━━━━━━━━━━━━━━━━\u001b[0m \u001b[1m0s\u001b[0m 150ms/step - accuracy: 0.7188 - loss: 0.6488\n",
            "Epoch 20: val_accuracy improved from 0.47619 to 0.50000, saving model to best_model.h5\n"
          ]
        },
        {
          "output_type": "stream",
          "name": "stderr",
          "text": [
            "WARNING:absl:You are saving your model as an HDF5 file via `model.save()` or `keras.saving.save_model(model)`. This file format is considered legacy. We recommend using instead the native Keras format, e.g. `model.save('my_model.keras')` or `keras.saving.save_model(model, 'my_model.keras')`. \n"
          ]
        },
        {
          "output_type": "stream",
          "name": "stdout",
          "text": [
            "\b\b\b\b\b\b\b\b\b\b\b\b\b\b\b\b\b\b\b\b\b\b\b\b\b\b\b\b\b\b\b\b\b\b\b\b\b\b\b\b\b\b\b\b\b\b\b\b\b\b\b\b\b\b\b\b\b\b\b\b\b\b\b\b\b\b\b\b\b\b\b\b\r\u001b[1m5/5\u001b[0m \u001b[32m━━━━━━━━━━━━━━━━━━━━\u001b[0m\u001b[37m\u001b[0m \u001b[1m0s\u001b[0m 37ms/step - accuracy: 0.6620 - loss: 0.6676 - val_accuracy: 0.5000 - val_loss: 0.6840\n",
            "Epoch 21/100\n",
            "\u001b[1m1/5\u001b[0m \u001b[32m━━━━\u001b[0m\u001b[37m━━━━━━━━━━━━━━━━\u001b[0m \u001b[1m0s\u001b[0m 143ms/step - accuracy: 0.6875 - loss: 0.7995\n",
            "Epoch 21: val_accuracy did not improve from 0.50000\n",
            "\u001b[1m5/5\u001b[0m \u001b[32m━━━━━━━━━━━━━━━━━━━━\u001b[0m\u001b[37m\u001b[0m \u001b[1m0s\u001b[0m 22ms/step - accuracy: 0.6521 - loss: 0.8097 - val_accuracy: 0.5000 - val_loss: 0.6714\n",
            "Epoch 22/100\n",
            "\u001b[1m1/5\u001b[0m \u001b[32m━━━━\u001b[0m\u001b[37m━━━━━━━━━━━━━━━━\u001b[0m \u001b[1m0s\u001b[0m 27ms/step - accuracy: 0.6562 - loss: 0.6045\n",
            "Epoch 22: val_accuracy improved from 0.50000 to 0.52381, saving model to best_model.h5\n"
          ]
        },
        {
          "output_type": "stream",
          "name": "stderr",
          "text": [
            "WARNING:absl:You are saving your model as an HDF5 file via `model.save()` or `keras.saving.save_model(model)`. This file format is considered legacy. We recommend using instead the native Keras format, e.g. `model.save('my_model.keras')` or `keras.saving.save_model(model, 'my_model.keras')`. \n"
          ]
        },
        {
          "output_type": "stream",
          "name": "stdout",
          "text": [
            "\b\b\b\b\b\b\b\b\b\b\b\b\b\b\b\b\b\b\b\b\b\b\b\b\b\b\b\b\b\b\b\b\b\b\b\b\b\b\b\b\b\b\b\b\b\b\b\b\b\b\b\b\b\b\b\b\b\b\b\b\b\b\b\b\b\b\b\b\b\b\b\r\u001b[1m5/5\u001b[0m \u001b[32m━━━━━━━━━━━━━━━━━━━━\u001b[0m\u001b[37m\u001b[0m \u001b[1m0s\u001b[0m 37ms/step - accuracy: 0.5970 - loss: 0.7184 - val_accuracy: 0.5238 - val_loss: 0.6600\n",
            "Epoch 23/100\n",
            "\u001b[1m1/5\u001b[0m \u001b[32m━━━━\u001b[0m\u001b[37m━━━━━━━━━━━━━━━━\u001b[0m \u001b[1m0s\u001b[0m 148ms/step - accuracy: 0.4688 - loss: 1.2334\n",
            "Epoch 23: val_accuracy did not improve from 0.52381\n",
            "\u001b[1m5/5\u001b[0m \u001b[32m━━━━━━━━━━━━━━━━━━━━\u001b[0m\u001b[37m\u001b[0m \u001b[1m0s\u001b[0m 22ms/step - accuracy: 0.5850 - loss: 0.9012 - val_accuracy: 0.5238 - val_loss: 0.6478\n",
            "Epoch 24/100\n",
            "\u001b[1m1/5\u001b[0m \u001b[32m━━━━\u001b[0m\u001b[37m━━━━━━━━━━━━━━━━\u001b[0m \u001b[1m0s\u001b[0m 27ms/step - accuracy: 0.5625 - loss: 0.8042\n",
            "Epoch 24: val_accuracy improved from 0.52381 to 0.54762, saving model to best_model.h5\n"
          ]
        },
        {
          "output_type": "stream",
          "name": "stderr",
          "text": [
            "WARNING:absl:You are saving your model as an HDF5 file via `model.save()` or `keras.saving.save_model(model)`. This file format is considered legacy. We recommend using instead the native Keras format, e.g. `model.save('my_model.keras')` or `keras.saving.save_model(model, 'my_model.keras')`. \n"
          ]
        },
        {
          "output_type": "stream",
          "name": "stdout",
          "text": [
            "\b\b\b\b\b\b\b\b\b\b\b\b\b\b\b\b\b\b\b\b\b\b\b\b\b\b\b\b\b\b\b\b\b\b\b\b\b\b\b\b\b\b\b\b\b\b\b\b\b\b\b\b\b\b\b\b\b\b\b\b\b\b\b\b\b\b\b\b\b\b\b\r\u001b[1m5/5\u001b[0m \u001b[32m━━━━━━━━━━━━━━━━━━━━\u001b[0m\u001b[37m\u001b[0m \u001b[1m0s\u001b[0m 40ms/step - accuracy: 0.6540 - loss: 0.8248 - val_accuracy: 0.5476 - val_loss: 0.6372\n",
            "Epoch 25/100\n",
            "\u001b[1m1/5\u001b[0m \u001b[32m━━━━\u001b[0m\u001b[37m━━━━━━━━━━━━━━━━\u001b[0m \u001b[1m0s\u001b[0m 164ms/step - accuracy: 0.6250 - loss: 0.6580\n",
            "Epoch 25: val_accuracy improved from 0.54762 to 0.57143, saving model to best_model.h5\n"
          ]
        },
        {
          "output_type": "stream",
          "name": "stderr",
          "text": [
            "WARNING:absl:You are saving your model as an HDF5 file via `model.save()` or `keras.saving.save_model(model)`. This file format is considered legacy. We recommend using instead the native Keras format, e.g. `model.save('my_model.keras')` or `keras.saving.save_model(model, 'my_model.keras')`. \n"
          ]
        },
        {
          "output_type": "stream",
          "name": "stdout",
          "text": [
            "\b\b\b\b\b\b\b\b\b\b\b\b\b\b\b\b\b\b\b\b\b\b\b\b\b\b\b\b\b\b\b\b\b\b\b\b\b\b\b\b\b\b\b\b\b\b\b\b\b\b\b\b\b\b\b\b\b\b\b\b\b\b\b\b\b\b\b\b\b\b\b\b\r\u001b[1m5/5\u001b[0m \u001b[32m━━━━━━━━━━━━━━━━━━━━\u001b[0m\u001b[37m\u001b[0m \u001b[1m0s\u001b[0m 81ms/step - accuracy: 0.6214 - loss: 0.6533 - val_accuracy: 0.5714 - val_loss: 0.6285\n",
            "Epoch 26/100\n",
            "\u001b[1m1/5\u001b[0m \u001b[32m━━━━\u001b[0m\u001b[37m━━━━━━━━━━━━━━━━\u001b[0m \u001b[1m1s\u001b[0m 267ms/step - accuracy: 0.5312 - loss: 0.8397\n",
            "Epoch 26: val_accuracy did not improve from 0.57143\n",
            "\u001b[1m5/5\u001b[0m \u001b[32m━━━━━━━━━━━━━━━━━━━━\u001b[0m\u001b[37m\u001b[0m \u001b[1m0s\u001b[0m 32ms/step - accuracy: 0.5438 - loss: 0.9399 - val_accuracy: 0.5476 - val_loss: 0.6184\n",
            "Epoch 27/100\n",
            "\u001b[1m1/5\u001b[0m \u001b[32m━━━━\u001b[0m\u001b[37m━━━━━━━━━━━━━━━━\u001b[0m \u001b[1m0s\u001b[0m 28ms/step - accuracy: 0.5312 - loss: 0.8391\n",
            "Epoch 27: val_accuracy did not improve from 0.57143\n",
            "\u001b[1m5/5\u001b[0m \u001b[32m━━━━━━━━━━━━━━━━━━━━\u001b[0m\u001b[37m\u001b[0m \u001b[1m0s\u001b[0m 24ms/step - accuracy: 0.5405 - loss: 0.7939 - val_accuracy: 0.5476 - val_loss: 0.6118\n",
            "Epoch 28/100\n",
            "\u001b[1m1/5\u001b[0m \u001b[32m━━━━\u001b[0m\u001b[37m━━━━━━━━━━━━━━━━\u001b[0m \u001b[1m0s\u001b[0m 40ms/step - accuracy: 0.6875 - loss: 0.5370\n",
            "Epoch 28: val_accuracy did not improve from 0.57143\n",
            "\u001b[1m5/5\u001b[0m \u001b[32m━━━━━━━━━━━━━━━━━━━━\u001b[0m\u001b[37m\u001b[0m \u001b[1m0s\u001b[0m 22ms/step - accuracy: 0.6758 - loss: 0.6208 - val_accuracy: 0.5714 - val_loss: 0.6073\n",
            "Epoch 29/100\n",
            "\u001b[1m1/5\u001b[0m \u001b[32m━━━━\u001b[0m\u001b[37m━━━━━━━━━━━━━━━━\u001b[0m \u001b[1m0s\u001b[0m 49ms/step - accuracy: 0.7500 - loss: 0.5124\n",
            "Epoch 29: val_accuracy did not improve from 0.57143\n",
            "\u001b[1m5/5\u001b[0m \u001b[32m━━━━━━━━━━━━━━━━━━━━\u001b[0m\u001b[37m\u001b[0m \u001b[1m0s\u001b[0m 32ms/step - accuracy: 0.7012 - loss: 0.6554 - val_accuracy: 0.5714 - val_loss: 0.6021\n",
            "Epoch 30/100\n",
            "\u001b[1m1/5\u001b[0m \u001b[32m━━━━\u001b[0m\u001b[37m━━━━━━━━━━━━━━━━\u001b[0m \u001b[1m0s\u001b[0m 169ms/step - accuracy: 0.7500 - loss: 0.7056\n",
            "Epoch 30: val_accuracy did not improve from 0.57143\n",
            "\u001b[1m5/5\u001b[0m \u001b[32m━━━━━━━━━━━━━━━━━━━━\u001b[0m\u001b[37m\u001b[0m \u001b[1m0s\u001b[0m 32ms/step - accuracy: 0.7151 - loss: 0.6357 - val_accuracy: 0.5714 - val_loss: 0.5947\n",
            "Epoch 31/100\n",
            "\u001b[1m1/5\u001b[0m \u001b[32m━━━━\u001b[0m\u001b[37m━━━━━━━━━━━━━━━━\u001b[0m \u001b[1m0s\u001b[0m 31ms/step - accuracy: 0.6875 - loss: 0.5496\n",
            "Epoch 31: val_accuracy improved from 0.57143 to 0.59524, saving model to best_model.h5\n"
          ]
        },
        {
          "output_type": "stream",
          "name": "stderr",
          "text": [
            "WARNING:absl:You are saving your model as an HDF5 file via `model.save()` or `keras.saving.save_model(model)`. This file format is considered legacy. We recommend using instead the native Keras format, e.g. `model.save('my_model.keras')` or `keras.saving.save_model(model, 'my_model.keras')`. \n"
          ]
        },
        {
          "output_type": "stream",
          "name": "stdout",
          "text": [
            "\b\b\b\b\b\b\b\b\b\b\b\b\b\b\b\b\b\b\b\b\b\b\b\b\b\b\b\b\b\b\b\b\b\b\b\b\b\b\b\b\b\b\b\b\b\b\b\b\b\b\b\b\b\b\b\b\b\b\b\b\b\b\b\b\b\b\b\b\b\b\b\r\u001b[1m5/5\u001b[0m \u001b[32m━━━━━━━━━━━━━━━━━━━━\u001b[0m\u001b[37m\u001b[0m \u001b[1m0s\u001b[0m 38ms/step - accuracy: 0.6449 - loss: 0.6815 - val_accuracy: 0.5952 - val_loss: 0.5868\n",
            "Epoch 32/100\n",
            "\u001b[1m1/5\u001b[0m \u001b[32m━━━━\u001b[0m\u001b[37m━━━━━━━━━━━━━━━━\u001b[0m \u001b[1m0s\u001b[0m 140ms/step - accuracy: 0.5938 - loss: 0.8379\n",
            "Epoch 32: val_accuracy improved from 0.59524 to 0.66667, saving model to best_model.h5\n"
          ]
        },
        {
          "output_type": "stream",
          "name": "stderr",
          "text": [
            "WARNING:absl:You are saving your model as an HDF5 file via `model.save()` or `keras.saving.save_model(model)`. This file format is considered legacy. We recommend using instead the native Keras format, e.g. `model.save('my_model.keras')` or `keras.saving.save_model(model, 'my_model.keras')`. \n"
          ]
        },
        {
          "output_type": "stream",
          "name": "stdout",
          "text": [
            "\b\b\b\b\b\b\b\b\b\b\b\b\b\b\b\b\b\b\b\b\b\b\b\b\b\b\b\b\b\b\b\b\b\b\b\b\b\b\b\b\b\b\b\b\b\b\b\b\b\b\b\b\b\b\b\b\b\b\b\b\b\b\b\b\b\b\b\b\b\b\b\b\r\u001b[1m5/5\u001b[0m \u001b[32m━━━━━━━━━━━━━━━━━━━━\u001b[0m\u001b[37m\u001b[0m \u001b[1m0s\u001b[0m 36ms/step - accuracy: 0.6088 - loss: 0.7772 - val_accuracy: 0.6667 - val_loss: 0.5809\n",
            "Epoch 33/100\n",
            "\u001b[1m1/5\u001b[0m \u001b[32m━━━━\u001b[0m\u001b[37m━━━━━━━━━━━━━━━━\u001b[0m \u001b[1m0s\u001b[0m 151ms/step - accuracy: 0.8438 - loss: 0.4694\n",
            "Epoch 33: val_accuracy did not improve from 0.66667\n",
            "\u001b[1m5/5\u001b[0m \u001b[32m━━━━━━━━━━━━━━━━━━━━\u001b[0m\u001b[37m\u001b[0m \u001b[1m0s\u001b[0m 22ms/step - accuracy: 0.8046 - loss: 0.4854 - val_accuracy: 0.6667 - val_loss: 0.5781\n",
            "Epoch 34/100\n",
            "\u001b[1m1/5\u001b[0m \u001b[32m━━━━\u001b[0m\u001b[37m━━━━━━━━━━━━━━━━\u001b[0m \u001b[1m0s\u001b[0m 47ms/step - accuracy: 0.5312 - loss: 0.5969\n",
            "Epoch 34: val_accuracy did not improve from 0.66667\n",
            "\u001b[1m5/5\u001b[0m \u001b[32m━━━━━━━━━━━━━━━━━━━━\u001b[0m\u001b[37m\u001b[0m \u001b[1m0s\u001b[0m 21ms/step - accuracy: 0.5774 - loss: 0.6620 - val_accuracy: 0.6667 - val_loss: 0.5770\n",
            "Epoch 35/100\n",
            "\u001b[1m1/5\u001b[0m \u001b[32m━━━━\u001b[0m\u001b[37m━━━━━━━━━━━━━━━━\u001b[0m \u001b[1m0s\u001b[0m 26ms/step - accuracy: 0.7188 - loss: 0.6804\n",
            "Epoch 35: val_accuracy did not improve from 0.66667\n",
            "\u001b[1m5/5\u001b[0m \u001b[32m━━━━━━━━━━━━━━━━━━━━\u001b[0m\u001b[37m\u001b[0m \u001b[1m0s\u001b[0m 22ms/step - accuracy: 0.6710 - loss: 0.6200 - val_accuracy: 0.6667 - val_loss: 0.5740\n",
            "Epoch 36/100\n",
            "\u001b[1m1/5\u001b[0m \u001b[32m━━━━\u001b[0m\u001b[37m━━━━━━━━━━━━━━━━\u001b[0m \u001b[1m0s\u001b[0m 50ms/step - accuracy: 0.7500 - loss: 0.5530\n",
            "Epoch 36: val_accuracy improved from 0.66667 to 0.69048, saving model to best_model.h5\n"
          ]
        },
        {
          "output_type": "stream",
          "name": "stderr",
          "text": [
            "WARNING:absl:You are saving your model as an HDF5 file via `model.save()` or `keras.saving.save_model(model)`. This file format is considered legacy. We recommend using instead the native Keras format, e.g. `model.save('my_model.keras')` or `keras.saving.save_model(model, 'my_model.keras')`. \n"
          ]
        },
        {
          "output_type": "stream",
          "name": "stdout",
          "text": [
            "\b\b\b\b\b\b\b\b\b\b\b\b\b\b\b\b\b\b\b\b\b\b\b\b\b\b\b\b\b\b\b\b\b\b\b\b\b\b\b\b\b\b\b\b\b\b\b\b\b\b\b\b\b\b\b\b\b\b\b\b\b\b\b\b\b\b\b\b\b\b\b\r\u001b[1m5/5\u001b[0m \u001b[32m━━━━━━━━━━━━━━━━━━━━\u001b[0m\u001b[37m\u001b[0m \u001b[1m0s\u001b[0m 37ms/step - accuracy: 0.7274 - loss: 0.5811 - val_accuracy: 0.6905 - val_loss: 0.5697\n",
            "Epoch 37/100\n",
            "\u001b[1m1/5\u001b[0m \u001b[32m━━━━\u001b[0m\u001b[37m━━━━━━━━━━━━━━━━\u001b[0m \u001b[1m0s\u001b[0m 31ms/step - accuracy: 0.7500 - loss: 0.5349\n",
            "Epoch 37: val_accuracy did not improve from 0.69048\n",
            "\u001b[1m5/5\u001b[0m \u001b[32m━━━━━━━━━━━━━━━━━━━━\u001b[0m\u001b[37m\u001b[0m \u001b[1m0s\u001b[0m 32ms/step - accuracy: 0.6836 - loss: 0.6647 - val_accuracy: 0.6905 - val_loss: 0.5673\n",
            "Epoch 38/100\n",
            "\u001b[1m1/5\u001b[0m \u001b[32m━━━━\u001b[0m\u001b[37m━━━━━━━━━━━━━━━━\u001b[0m \u001b[1m0s\u001b[0m 30ms/step - accuracy: 0.7500 - loss: 0.5717\n",
            "Epoch 38: val_accuracy did not improve from 0.69048\n",
            "\u001b[1m5/5\u001b[0m \u001b[32m━━━━━━━━━━━━━━━━━━━━\u001b[0m\u001b[37m\u001b[0m \u001b[1m0s\u001b[0m 22ms/step - accuracy: 0.6749 - loss: 0.7041 - val_accuracy: 0.6905 - val_loss: 0.5618\n",
            "Epoch 39/100\n",
            "\u001b[1m1/5\u001b[0m \u001b[32m━━━━\u001b[0m\u001b[37m━━━━━━━━━━━━━━━━\u001b[0m \u001b[1m0s\u001b[0m 48ms/step - accuracy: 0.6875 - loss: 0.5379\n",
            "Epoch 39: val_accuracy did not improve from 0.69048\n",
            "\u001b[1m5/5\u001b[0m \u001b[32m━━━━━━━━━━━━━━━━━━━━\u001b[0m\u001b[37m\u001b[0m \u001b[1m0s\u001b[0m 22ms/step - accuracy: 0.6727 - loss: 0.6696 - val_accuracy: 0.6905 - val_loss: 0.5573\n",
            "Epoch 40/100\n",
            "\u001b[1m1/5\u001b[0m \u001b[32m━━━━\u001b[0m\u001b[37m━━━━━━━━━━━━━━━━\u001b[0m \u001b[1m0s\u001b[0m 27ms/step - accuracy: 0.6562 - loss: 0.5998\n",
            "Epoch 40: val_accuracy did not improve from 0.69048\n",
            "\u001b[1m5/5\u001b[0m \u001b[32m━━━━━━━━━━━━━━━━━━━━\u001b[0m\u001b[37m\u001b[0m \u001b[1m0s\u001b[0m 22ms/step - accuracy: 0.6429 - loss: 0.6139 - val_accuracy: 0.6905 - val_loss: 0.5532\n",
            "Epoch 41/100\n",
            "\u001b[1m1/5\u001b[0m \u001b[32m━━━━\u001b[0m\u001b[37m━━━━━━━━━━━━━━━━\u001b[0m \u001b[1m0s\u001b[0m 29ms/step - accuracy: 0.6250 - loss: 0.6444\n",
            "Epoch 41: val_accuracy did not improve from 0.69048\n",
            "\u001b[1m5/5\u001b[0m \u001b[32m━━━━━━━━━━━━━━━━━━━━\u001b[0m\u001b[37m\u001b[0m \u001b[1m0s\u001b[0m 22ms/step - accuracy: 0.7017 - loss: 0.6251 - val_accuracy: 0.6905 - val_loss: 0.5493\n",
            "Epoch 42/100\n",
            "\u001b[1m1/5\u001b[0m \u001b[32m━━━━\u001b[0m\u001b[37m━━━━━━━━━━━━━━━━\u001b[0m \u001b[1m0s\u001b[0m 51ms/step - accuracy: 0.5312 - loss: 0.9610\n",
            "Epoch 42: val_accuracy did not improve from 0.69048\n",
            "\u001b[1m5/5\u001b[0m \u001b[32m━━━━━━━━━━━━━━━━━━━━\u001b[0m\u001b[37m\u001b[0m \u001b[1m0s\u001b[0m 21ms/step - accuracy: 0.6340 - loss: 0.7471 - val_accuracy: 0.6905 - val_loss: 0.5448\n",
            "Epoch 43/100\n",
            "\u001b[1m1/5\u001b[0m \u001b[32m━━━━\u001b[0m\u001b[37m━━━━━━━━━━━━━━━━\u001b[0m \u001b[1m0s\u001b[0m 49ms/step - accuracy: 0.7500 - loss: 0.4442\n",
            "Epoch 43: val_accuracy did not improve from 0.69048\n",
            "\u001b[1m5/5\u001b[0m \u001b[32m━━━━━━━━━━━━━━━━━━━━\u001b[0m\u001b[37m\u001b[0m \u001b[1m0s\u001b[0m 24ms/step - accuracy: 0.7171 - loss: 0.5240 - val_accuracy: 0.6905 - val_loss: 0.5396\n",
            "Epoch 44/100\n",
            "\u001b[1m1/5\u001b[0m \u001b[32m━━━━\u001b[0m\u001b[37m━━━━━━━━━━━━━━━━\u001b[0m \u001b[1m0s\u001b[0m 27ms/step - accuracy: 0.7188 - loss: 0.6949\n",
            "Epoch 44: val_accuracy improved from 0.69048 to 0.71429, saving model to best_model.h5\n"
          ]
        },
        {
          "output_type": "stream",
          "name": "stderr",
          "text": [
            "WARNING:absl:You are saving your model as an HDF5 file via `model.save()` or `keras.saving.save_model(model)`. This file format is considered legacy. We recommend using instead the native Keras format, e.g. `model.save('my_model.keras')` or `keras.saving.save_model(model, 'my_model.keras')`. \n"
          ]
        },
        {
          "output_type": "stream",
          "name": "stdout",
          "text": [
            "\b\b\b\b\b\b\b\b\b\b\b\b\b\b\b\b\b\b\b\b\b\b\b\b\b\b\b\b\b\b\b\b\b\b\b\b\b\b\b\b\b\b\b\b\b\b\b\b\b\b\b\b\b\b\b\b\b\b\b\b\b\b\b\b\b\b\b\b\b\b\b\r\u001b[1m5/5\u001b[0m \u001b[32m━━━━━━━━━━━━━━━━━━━━\u001b[0m\u001b[37m\u001b[0m \u001b[1m0s\u001b[0m 35ms/step - accuracy: 0.7205 - loss: 0.6209 - val_accuracy: 0.7143 - val_loss: 0.5357\n",
            "Epoch 45/100\n",
            "\u001b[1m1/5\u001b[0m \u001b[32m━━━━\u001b[0m\u001b[37m━━━━━━━━━━━━━━━━\u001b[0m \u001b[1m0s\u001b[0m 30ms/step - accuracy: 0.8438 - loss: 0.3615\n",
            "Epoch 45: val_accuracy improved from 0.71429 to 0.73810, saving model to best_model.h5\n"
          ]
        },
        {
          "output_type": "stream",
          "name": "stderr",
          "text": [
            "WARNING:absl:You are saving your model as an HDF5 file via `model.save()` or `keras.saving.save_model(model)`. This file format is considered legacy. We recommend using instead the native Keras format, e.g. `model.save('my_model.keras')` or `keras.saving.save_model(model, 'my_model.keras')`. \n"
          ]
        },
        {
          "output_type": "stream",
          "name": "stdout",
          "text": [
            "\b\b\b\b\b\b\b\b\b\b\b\b\b\b\b\b\b\b\b\b\b\b\b\b\b\b\b\b\b\b\b\b\b\b\b\b\b\b\b\b\b\b\b\b\b\b\b\b\b\b\b\b\b\b\b\b\b\b\b\b\b\b\b\b\b\b\b\b\b\b\b\r\u001b[1m5/5\u001b[0m \u001b[32m━━━━━━━━━━━━━━━━━━━━\u001b[0m\u001b[37m\u001b[0m \u001b[1m0s\u001b[0m 36ms/step - accuracy: 0.7530 - loss: 0.4791 - val_accuracy: 0.7381 - val_loss: 0.5273\n",
            "Epoch 46/100\n",
            "\u001b[1m1/5\u001b[0m \u001b[32m━━━━\u001b[0m\u001b[37m━━━━━━━━━━━━━━━━\u001b[0m \u001b[1m0s\u001b[0m 152ms/step - accuracy: 0.8125 - loss: 0.4162\n",
            "Epoch 46: val_accuracy did not improve from 0.73810\n",
            "\u001b[1m5/5\u001b[0m \u001b[32m━━━━━━━━━━━━━━━━━━━━\u001b[0m\u001b[37m\u001b[0m \u001b[1m0s\u001b[0m 22ms/step - accuracy: 0.7518 - loss: 0.5485 - val_accuracy: 0.7381 - val_loss: 0.5216\n",
            "Epoch 47/100\n",
            "\u001b[1m1/5\u001b[0m \u001b[32m━━━━\u001b[0m\u001b[37m━━━━━━━━━━━━━━━━\u001b[0m \u001b[1m0s\u001b[0m 48ms/step - accuracy: 0.7188 - loss: 0.4616\n",
            "Epoch 47: val_accuracy did not improve from 0.73810\n",
            "\u001b[1m5/5\u001b[0m \u001b[32m━━━━━━━━━━━━━━━━━━━━\u001b[0m\u001b[37m\u001b[0m \u001b[1m0s\u001b[0m 22ms/step - accuracy: 0.7200 - loss: 0.5084 - val_accuracy: 0.7381 - val_loss: 0.5192\n",
            "Epoch 48/100\n",
            "\u001b[1m1/5\u001b[0m \u001b[32m━━━━\u001b[0m\u001b[37m━━━━━━━━━━━━━━━━\u001b[0m \u001b[1m0s\u001b[0m 28ms/step - accuracy: 0.6562 - loss: 0.6110\n",
            "Epoch 48: val_accuracy did not improve from 0.73810\n",
            "\u001b[1m5/5\u001b[0m \u001b[32m━━━━━━━━━━━━━━━━━━━━\u001b[0m\u001b[37m\u001b[0m \u001b[1m0s\u001b[0m 22ms/step - accuracy: 0.6700 - loss: 0.6006 - val_accuracy: 0.7381 - val_loss: 0.5161\n",
            "Epoch 49/100\n",
            "\u001b[1m1/5\u001b[0m \u001b[32m━━━━\u001b[0m\u001b[37m━━━━━━━━━━━━━━━━\u001b[0m \u001b[1m0s\u001b[0m 27ms/step - accuracy: 0.6562 - loss: 0.5043\n",
            "Epoch 49: val_accuracy did not improve from 0.73810\n",
            "\u001b[1m5/5\u001b[0m \u001b[32m━━━━━━━━━━━━━━━━━━━━\u001b[0m\u001b[37m\u001b[0m \u001b[1m0s\u001b[0m 33ms/step - accuracy: 0.7149 - loss: 0.5336 - val_accuracy: 0.7381 - val_loss: 0.5130\n",
            "Epoch 50/100\n",
            "\u001b[1m1/5\u001b[0m \u001b[32m━━━━\u001b[0m\u001b[37m━━━━━━━━━━━━━━━━\u001b[0m \u001b[1m0s\u001b[0m 166ms/step - accuracy: 0.6875 - loss: 0.5880\n",
            "Epoch 50: val_accuracy did not improve from 0.73810\n",
            "\u001b[1m5/5\u001b[0m \u001b[32m━━━━━━━━━━━━━━━━━━━━\u001b[0m\u001b[37m\u001b[0m \u001b[1m0s\u001b[0m 23ms/step - accuracy: 0.6997 - loss: 0.5586 - val_accuracy: 0.7381 - val_loss: 0.5108\n",
            "Epoch 51/100\n",
            "\u001b[1m1/5\u001b[0m \u001b[32m━━━━\u001b[0m\u001b[37m━━━━━━━━━━━━━━━━\u001b[0m \u001b[1m0s\u001b[0m 28ms/step - accuracy: 0.6875 - loss: 0.7802\n",
            "Epoch 51: val_accuracy did not improve from 0.73810\n",
            "\u001b[1m5/5\u001b[0m \u001b[32m━━━━━━━━━━━━━━━━━━━━\u001b[0m\u001b[37m\u001b[0m \u001b[1m0s\u001b[0m 22ms/step - accuracy: 0.6692 - loss: 0.6736 - val_accuracy: 0.7381 - val_loss: 0.5079\n",
            "Epoch 52/100\n",
            "\u001b[1m1/5\u001b[0m \u001b[32m━━━━\u001b[0m\u001b[37m━━━━━━━━━━━━━━━━\u001b[0m \u001b[1m0s\u001b[0m 49ms/step - accuracy: 0.8438 - loss: 0.5323\n",
            "Epoch 52: val_accuracy improved from 0.73810 to 0.76190, saving model to best_model.h5\n"
          ]
        },
        {
          "output_type": "stream",
          "name": "stderr",
          "text": [
            "WARNING:absl:You are saving your model as an HDF5 file via `model.save()` or `keras.saving.save_model(model)`. This file format is considered legacy. We recommend using instead the native Keras format, e.g. `model.save('my_model.keras')` or `keras.saving.save_model(model, 'my_model.keras')`. \n"
          ]
        },
        {
          "output_type": "stream",
          "name": "stdout",
          "text": [
            "\b\b\b\b\b\b\b\b\b\b\b\b\b\b\b\b\b\b\b\b\b\b\b\b\b\b\b\b\b\b\b\b\b\b\b\b\b\b\b\b\b\b\b\b\b\b\b\b\b\b\b\b\b\b\b\b\b\b\b\b\b\b\b\b\b\b\b\b\b\b\b\r\u001b[1m5/5\u001b[0m \u001b[32m━━━━━━━━━━━━━━━━━━━━\u001b[0m\u001b[37m\u001b[0m \u001b[1m0s\u001b[0m 46ms/step - accuracy: 0.7809 - loss: 0.5253 - val_accuracy: 0.7619 - val_loss: 0.5023\n",
            "Epoch 53/100\n",
            "\u001b[1m1/5\u001b[0m \u001b[32m━━━━\u001b[0m\u001b[37m━━━━━━━━━━━━━━━━\u001b[0m \u001b[1m0s\u001b[0m 112ms/step - accuracy: 0.6250 - loss: 0.6140\n",
            "Epoch 53: val_accuracy improved from 0.76190 to 0.78571, saving model to best_model.h5\n"
          ]
        },
        {
          "output_type": "stream",
          "name": "stderr",
          "text": [
            "WARNING:absl:You are saving your model as an HDF5 file via `model.save()` or `keras.saving.save_model(model)`. This file format is considered legacy. We recommend using instead the native Keras format, e.g. `model.save('my_model.keras')` or `keras.saving.save_model(model, 'my_model.keras')`. \n"
          ]
        },
        {
          "output_type": "stream",
          "name": "stdout",
          "text": [
            "\b\b\b\b\b\b\b\b\b\b\b\b\b\b\b\b\b\b\b\b\b\b\b\b\b\b\b\b\b\b\b\b\b\b\b\b\b\b\b\b\b\b\b\b\b\b\b\b\b\b\b\b\b\b\b\b\b\b\b\b\b\b\b\b\b\b\b\b\b\b\b\b\r\u001b[1m5/5\u001b[0m \u001b[32m━━━━━━━━━━━━━━━━━━━━\u001b[0m\u001b[37m\u001b[0m \u001b[1m0s\u001b[0m 36ms/step - accuracy: 0.6722 - loss: 0.6058 - val_accuracy: 0.7857 - val_loss: 0.4977\n",
            "Epoch 54/100\n",
            "\u001b[1m1/5\u001b[0m \u001b[32m━━━━\u001b[0m\u001b[37m━━━━━━━━━━━━━━━━\u001b[0m \u001b[1m0s\u001b[0m 150ms/step - accuracy: 0.7812 - loss: 0.4283\n",
            "Epoch 54: val_accuracy did not improve from 0.78571\n",
            "\u001b[1m5/5\u001b[0m \u001b[32m━━━━━━━━━━━━━━━━━━━━\u001b[0m\u001b[37m\u001b[0m \u001b[1m0s\u001b[0m 22ms/step - accuracy: 0.7313 - loss: 0.4885 - val_accuracy: 0.7619 - val_loss: 0.4950\n",
            "Epoch 55/100\n",
            "\u001b[1m1/5\u001b[0m \u001b[32m━━━━\u001b[0m\u001b[37m━━━━━━━━━━━━━━━━\u001b[0m \u001b[1m0s\u001b[0m 46ms/step - accuracy: 0.4688 - loss: 1.1944\n",
            "Epoch 55: val_accuracy did not improve from 0.78571\n",
            "\u001b[1m5/5\u001b[0m \u001b[32m━━━━━━━━━━━━━━━━━━━━\u001b[0m\u001b[37m\u001b[0m \u001b[1m0s\u001b[0m 22ms/step - accuracy: 0.6542 - loss: 0.7980 - val_accuracy: 0.7381 - val_loss: 0.4921\n",
            "Epoch 56/100\n",
            "\u001b[1m1/5\u001b[0m \u001b[32m━━━━\u001b[0m\u001b[37m━━━━━━━━━━━━━━━━\u001b[0m \u001b[1m0s\u001b[0m 27ms/step - accuracy: 0.6250 - loss: 0.6886\n",
            "Epoch 56: val_accuracy did not improve from 0.78571\n",
            "\u001b[1m5/5\u001b[0m \u001b[32m━━━━━━━━━━━━━━━━━━━━\u001b[0m\u001b[37m\u001b[0m \u001b[1m0s\u001b[0m 22ms/step - accuracy: 0.6968 - loss: 0.5584 - val_accuracy: 0.7381 - val_loss: 0.4897\n",
            "Epoch 57/100\n",
            "\u001b[1m1/5\u001b[0m \u001b[32m━━━━\u001b[0m\u001b[37m━━━━━━━━━━━━━━━━\u001b[0m \u001b[1m0s\u001b[0m 28ms/step - accuracy: 0.7500 - loss: 0.4783\n",
            "Epoch 57: val_accuracy did not improve from 0.78571\n",
            "\u001b[1m5/5\u001b[0m \u001b[32m━━━━━━━━━━━━━━━━━━━━\u001b[0m\u001b[37m\u001b[0m \u001b[1m0s\u001b[0m 22ms/step - accuracy: 0.7486 - loss: 0.5451 - val_accuracy: 0.7381 - val_loss: 0.4871\n",
            "Epoch 58/100\n",
            "\u001b[1m1/5\u001b[0m \u001b[32m━━━━\u001b[0m\u001b[37m━━━━━━━━━━━━━━━━\u001b[0m \u001b[1m0s\u001b[0m 28ms/step - accuracy: 0.7500 - loss: 0.4294\n",
            "Epoch 58: val_accuracy did not improve from 0.78571\n",
            "\u001b[1m5/5\u001b[0m \u001b[32m━━━━━━━━━━━━━━━━━━━━\u001b[0m\u001b[37m\u001b[0m \u001b[1m0s\u001b[0m 22ms/step - accuracy: 0.7365 - loss: 0.5215 - val_accuracy: 0.7381 - val_loss: 0.4839\n",
            "Epoch 59/100\n",
            "\u001b[1m1/5\u001b[0m \u001b[32m━━━━\u001b[0m\u001b[37m━━━━━━━━━━━━━━━━\u001b[0m \u001b[1m0s\u001b[0m 28ms/step - accuracy: 0.7188 - loss: 0.5876\n",
            "Epoch 59: val_accuracy did not improve from 0.78571\n",
            "\u001b[1m5/5\u001b[0m \u001b[32m━━━━━━━━━━━━━━━━━━━━\u001b[0m\u001b[37m\u001b[0m \u001b[1m0s\u001b[0m 22ms/step - accuracy: 0.7613 - loss: 0.5261 - val_accuracy: 0.7381 - val_loss: 0.4774\n",
            "Epoch 60/100\n",
            "\u001b[1m1/5\u001b[0m \u001b[32m━━━━\u001b[0m\u001b[37m━━━━━━━━━━━━━━━━\u001b[0m \u001b[1m0s\u001b[0m 27ms/step - accuracy: 0.6562 - loss: 0.5657\n",
            "Epoch 60: val_accuracy did not improve from 0.78571\n",
            "\u001b[1m5/5\u001b[0m \u001b[32m━━━━━━━━━━━━━━━━━━━━\u001b[0m\u001b[37m\u001b[0m \u001b[1m0s\u001b[0m 22ms/step - accuracy: 0.7551 - loss: 0.4949 - val_accuracy: 0.7619 - val_loss: 0.4727\n",
            "Epoch 61/100\n",
            "\u001b[1m1/5\u001b[0m \u001b[32m━━━━\u001b[0m\u001b[37m━━━━━━━━━━━━━━━━\u001b[0m \u001b[1m0s\u001b[0m 48ms/step - accuracy: 0.8438 - loss: 0.6048\n",
            "Epoch 61: val_accuracy did not improve from 0.78571\n",
            "\u001b[1m5/5\u001b[0m \u001b[32m━━━━━━━━━━━━━━━━━━━━\u001b[0m\u001b[37m\u001b[0m \u001b[1m0s\u001b[0m 25ms/step - accuracy: 0.8042 - loss: 0.4955 - val_accuracy: 0.7619 - val_loss: 0.4692\n",
            "Epoch 62/100\n",
            "\u001b[1m1/5\u001b[0m \u001b[32m━━━━\u001b[0m\u001b[37m━━━━━━━━━━━━━━━━\u001b[0m \u001b[1m0s\u001b[0m 29ms/step - accuracy: 0.8750 - loss: 0.2838\n",
            "Epoch 62: val_accuracy did not improve from 0.78571\n",
            "\u001b[1m5/5\u001b[0m \u001b[32m━━━━━━━━━━━━━━━━━━━━\u001b[0m\u001b[37m\u001b[0m \u001b[1m0s\u001b[0m 22ms/step - accuracy: 0.8098 - loss: 0.5569 - val_accuracy: 0.7619 - val_loss: 0.4651\n",
            "Epoch 63/100\n",
            "\u001b[1m1/5\u001b[0m \u001b[32m━━━━\u001b[0m\u001b[37m━━━━━━━━━━━━━━━━\u001b[0m \u001b[1m0s\u001b[0m 27ms/step - accuracy: 0.8750 - loss: 0.4244\n",
            "Epoch 63: val_accuracy improved from 0.78571 to 0.83333, saving model to best_model.h5\n"
          ]
        },
        {
          "output_type": "stream",
          "name": "stderr",
          "text": [
            "WARNING:absl:You are saving your model as an HDF5 file via `model.save()` or `keras.saving.save_model(model)`. This file format is considered legacy. We recommend using instead the native Keras format, e.g. `model.save('my_model.keras')` or `keras.saving.save_model(model, 'my_model.keras')`. \n"
          ]
        },
        {
          "output_type": "stream",
          "name": "stdout",
          "text": [
            "\b\b\b\b\b\b\b\b\b\b\b\b\b\b\b\b\b\b\b\b\b\b\b\b\b\b\b\b\b\b\b\b\b\b\b\b\b\b\b\b\b\b\b\b\b\b\b\b\b\b\b\b\b\b\b\b\b\b\b\b\b\b\b\b\b\b\b\b\b\b\b\r\u001b[1m5/5\u001b[0m \u001b[32m━━━━━━━━━━━━━━━━━━━━\u001b[0m\u001b[37m\u001b[0m \u001b[1m0s\u001b[0m 36ms/step - accuracy: 0.7914 - loss: 0.5406 - val_accuracy: 0.8333 - val_loss: 0.4592\n",
            "Epoch 64/100\n",
            "\u001b[1m1/5\u001b[0m \u001b[32m━━━━\u001b[0m\u001b[37m━━━━━━━━━━━━━━━━\u001b[0m \u001b[1m0s\u001b[0m 29ms/step - accuracy: 0.8750 - loss: 0.3954\n",
            "Epoch 64: val_accuracy did not improve from 0.83333\n",
            "\u001b[1m5/5\u001b[0m \u001b[32m━━━━━━━━━━━━━━━━━━━━\u001b[0m\u001b[37m\u001b[0m \u001b[1m0s\u001b[0m 22ms/step - accuracy: 0.8257 - loss: 0.4659 - val_accuracy: 0.8333 - val_loss: 0.4521\n",
            "Epoch 65/100\n",
            "\u001b[1m1/5\u001b[0m \u001b[32m━━━━\u001b[0m\u001b[37m━━━━━━━━━━━━━━━━\u001b[0m \u001b[1m0s\u001b[0m 30ms/step - accuracy: 0.6875 - loss: 0.5305\n",
            "Epoch 65: val_accuracy did not improve from 0.83333\n",
            "\u001b[1m5/5\u001b[0m \u001b[32m━━━━━━━━━━━━━━━━━━━━\u001b[0m\u001b[37m\u001b[0m \u001b[1m0s\u001b[0m 22ms/step - accuracy: 0.7445 - loss: 0.4686 - val_accuracy: 0.8333 - val_loss: 0.4497\n",
            "Epoch 66/100\n",
            "\u001b[1m1/5\u001b[0m \u001b[32m━━━━\u001b[0m\u001b[37m━━━━━━━━━━━━━━━━\u001b[0m \u001b[1m0s\u001b[0m 49ms/step - accuracy: 0.7812 - loss: 0.6084\n",
            "Epoch 66: val_accuracy did not improve from 0.83333\n",
            "\u001b[1m5/5\u001b[0m \u001b[32m━━━━━━━━━━━━━━━━━━━━\u001b[0m\u001b[37m\u001b[0m \u001b[1m0s\u001b[0m 22ms/step - accuracy: 0.7812 - loss: 0.5478 - val_accuracy: 0.8333 - val_loss: 0.4485\n",
            "Epoch 67/100\n",
            "\u001b[1m1/5\u001b[0m \u001b[32m━━━━\u001b[0m\u001b[37m━━━━━━━━━━━━━━━━\u001b[0m \u001b[1m0s\u001b[0m 29ms/step - accuracy: 0.8750 - loss: 0.3607\n",
            "Epoch 67: val_accuracy did not improve from 0.83333\n",
            "\u001b[1m5/5\u001b[0m \u001b[32m━━━━━━━━━━━━━━━━━━━━\u001b[0m\u001b[37m\u001b[0m \u001b[1m0s\u001b[0m 22ms/step - accuracy: 0.7750 - loss: 0.5037 - val_accuracy: 0.8333 - val_loss: 0.4495\n",
            "Epoch 68/100\n",
            "\u001b[1m1/5\u001b[0m \u001b[32m━━━━\u001b[0m\u001b[37m━━━━━━━━━━━━━━━━\u001b[0m \u001b[1m0s\u001b[0m 51ms/step - accuracy: 0.5938 - loss: 0.8609\n",
            "Epoch 68: val_accuracy did not improve from 0.83333\n",
            "\u001b[1m5/5\u001b[0m \u001b[32m━━━━━━━━━━━━━━━━━━━━\u001b[0m\u001b[37m\u001b[0m \u001b[1m0s\u001b[0m 37ms/step - accuracy: 0.6802 - loss: 0.6521 - val_accuracy: 0.8333 - val_loss: 0.4471\n",
            "Epoch 69/100\n",
            "\u001b[1m1/5\u001b[0m \u001b[32m━━━━\u001b[0m\u001b[37m━━━━━━━━━━━━━━━━\u001b[0m \u001b[1m0s\u001b[0m 153ms/step - accuracy: 0.8438 - loss: 0.3411\n",
            "Epoch 69: val_accuracy did not improve from 0.83333\n",
            "\u001b[1m5/5\u001b[0m \u001b[32m━━━━━━━━━━━━━━━━━━━━\u001b[0m\u001b[37m\u001b[0m \u001b[1m0s\u001b[0m 37ms/step - accuracy: 0.7698 - loss: 0.4973 - val_accuracy: 0.8333 - val_loss: 0.4457\n",
            "Epoch 70/100\n",
            "\u001b[1m1/5\u001b[0m \u001b[32m━━━━\u001b[0m\u001b[37m━━━━━━━━━━━━━━━━\u001b[0m \u001b[1m0s\u001b[0m 146ms/step - accuracy: 0.8125 - loss: 0.5237\n",
            "Epoch 70: val_accuracy did not improve from 0.83333\n",
            "\u001b[1m5/5\u001b[0m \u001b[32m━━━━━━━━━━━━━━━━━━━━\u001b[0m\u001b[37m\u001b[0m \u001b[1m0s\u001b[0m 28ms/step - accuracy: 0.7934 - loss: 0.4904 - val_accuracy: 0.8333 - val_loss: 0.4413\n",
            "Epoch 71/100\n",
            "\u001b[1m1/5\u001b[0m \u001b[32m━━━━\u001b[0m\u001b[37m━━━━━━━━━━━━━━━━\u001b[0m \u001b[1m0s\u001b[0m 184ms/step - accuracy: 0.7812 - loss: 0.4499\n",
            "Epoch 71: val_accuracy did not improve from 0.83333\n",
            "\u001b[1m5/5\u001b[0m \u001b[32m━━━━━━━━━━━━━━━━━━━━\u001b[0m\u001b[37m\u001b[0m \u001b[1m0s\u001b[0m 30ms/step - accuracy: 0.7601 - loss: 0.5179 - val_accuracy: 0.8333 - val_loss: 0.4380\n",
            "Epoch 72/100\n",
            "\u001b[1m1/5\u001b[0m \u001b[32m━━━━\u001b[0m\u001b[37m━━━━━━━━━━━━━━━━\u001b[0m \u001b[1m0s\u001b[0m 179ms/step - accuracy: 0.7500 - loss: 0.4034\n",
            "Epoch 72: val_accuracy did not improve from 0.83333\n",
            "\u001b[1m5/5\u001b[0m \u001b[32m━━━━━━━━━━━━━━━━━━━━\u001b[0m\u001b[37m\u001b[0m \u001b[1m0s\u001b[0m 31ms/step - accuracy: 0.7442 - loss: 0.5202 - val_accuracy: 0.8333 - val_loss: 0.4377\n",
            "Epoch 73/100\n",
            "\u001b[1m1/5\u001b[0m \u001b[32m━━━━\u001b[0m\u001b[37m━━━━━━━━━━━━━━━━\u001b[0m \u001b[1m0s\u001b[0m 173ms/step - accuracy: 0.7812 - loss: 0.3736\n",
            "Epoch 73: val_accuracy did not improve from 0.83333\n",
            "\u001b[1m5/5\u001b[0m \u001b[32m━━━━━━━━━━━━━━━━━━━━\u001b[0m\u001b[37m\u001b[0m \u001b[1m0s\u001b[0m 37ms/step - accuracy: 0.7361 - loss: 0.5111 - val_accuracy: 0.8095 - val_loss: 0.4384\n",
            "Epoch 74/100\n",
            "\u001b[1m1/5\u001b[0m \u001b[32m━━━━\u001b[0m\u001b[37m━━━━━━━━━━━━━━━━\u001b[0m \u001b[1m0s\u001b[0m 143ms/step - accuracy: 0.7188 - loss: 0.5522\n",
            "Epoch 74: val_accuracy did not improve from 0.83333\n",
            "\u001b[1m5/5\u001b[0m \u001b[32m━━━━━━━━━━━━━━━━━━━━\u001b[0m\u001b[37m\u001b[0m \u001b[1m0s\u001b[0m 39ms/step - accuracy: 0.7492 - loss: 0.4880 - val_accuracy: 0.8095 - val_loss: 0.4374\n",
            "Epoch 75/100\n",
            "\u001b[1m1/5\u001b[0m \u001b[32m━━━━\u001b[0m\u001b[37m━━━━━━━━━━━━━━━━\u001b[0m \u001b[1m0s\u001b[0m 140ms/step - accuracy: 0.8125 - loss: 0.4016\n",
            "Epoch 75: val_accuracy did not improve from 0.83333\n",
            "\u001b[1m5/5\u001b[0m \u001b[32m━━━━━━━━━━━━━━━━━━━━\u001b[0m\u001b[37m\u001b[0m \u001b[1m0s\u001b[0m 36ms/step - accuracy: 0.8076 - loss: 0.3920 - val_accuracy: 0.7857 - val_loss: 0.4397\n",
            "Epoch 76/100\n",
            "\u001b[1m1/5\u001b[0m \u001b[32m━━━━\u001b[0m\u001b[37m━━━━━━━━━━━━━━━━\u001b[0m \u001b[1m0s\u001b[0m 45ms/step - accuracy: 0.7812 - loss: 0.4372\n",
            "Epoch 76: val_accuracy did not improve from 0.83333\n",
            "\u001b[1m5/5\u001b[0m \u001b[32m━━━━━━━━━━━━━━━━━━━━\u001b[0m\u001b[37m\u001b[0m \u001b[1m0s\u001b[0m 33ms/step - accuracy: 0.7667 - loss: 0.4708 - val_accuracy: 0.7857 - val_loss: 0.4373\n",
            "Epoch 77/100\n",
            "\u001b[1m1/5\u001b[0m \u001b[32m━━━━\u001b[0m\u001b[37m━━━━━━━━━━━━━━━━\u001b[0m \u001b[1m0s\u001b[0m 40ms/step - accuracy: 0.7500 - loss: 0.4863\n",
            "Epoch 77: val_accuracy did not improve from 0.83333\n",
            "\u001b[1m5/5\u001b[0m \u001b[32m━━━━━━━━━━━━━━━━━━━━\u001b[0m\u001b[37m\u001b[0m \u001b[1m0s\u001b[0m 34ms/step - accuracy: 0.7822 - loss: 0.4570 - val_accuracy: 0.7857 - val_loss: 0.4350\n",
            "Epoch 78/100\n",
            "\u001b[1m1/5\u001b[0m \u001b[32m━━━━\u001b[0m\u001b[37m━━━━━━━━━━━━━━━━\u001b[0m \u001b[1m0s\u001b[0m 163ms/step - accuracy: 0.6875 - loss: 0.6853\n",
            "Epoch 78: val_accuracy did not improve from 0.83333\n",
            "\u001b[1m5/5\u001b[0m \u001b[32m━━━━━━━━━━━━━━━━━━━━\u001b[0m\u001b[37m\u001b[0m \u001b[1m0s\u001b[0m 23ms/step - accuracy: 0.7328 - loss: 0.5553 - val_accuracy: 0.7857 - val_loss: 0.4335\n",
            "Epoch 79/100\n",
            "\u001b[1m1/5\u001b[0m \u001b[32m━━━━\u001b[0m\u001b[37m━━━━━━━━━━━━━━━━\u001b[0m \u001b[1m0s\u001b[0m 28ms/step - accuracy: 0.8438 - loss: 0.3407\n",
            "Epoch 79: val_accuracy did not improve from 0.83333\n",
            "\u001b[1m5/5\u001b[0m \u001b[32m━━━━━━━━━━━━━━━━━━━━\u001b[0m\u001b[37m\u001b[0m \u001b[1m0s\u001b[0m 23ms/step - accuracy: 0.7797 - loss: 0.4277 - val_accuracy: 0.7857 - val_loss: 0.4300\n",
            "Epoch 80/100\n",
            "\u001b[1m1/5\u001b[0m \u001b[32m━━━━\u001b[0m\u001b[37m━━━━━━━━━━━━━━━━\u001b[0m \u001b[1m0s\u001b[0m 28ms/step - accuracy: 0.6875 - loss: 0.6313\n",
            "Epoch 80: val_accuracy did not improve from 0.83333\n",
            "\u001b[1m5/5\u001b[0m \u001b[32m━━━━━━━━━━━━━━━━━━━━\u001b[0m\u001b[37m\u001b[0m \u001b[1m0s\u001b[0m 22ms/step - accuracy: 0.7274 - loss: 0.5481 - val_accuracy: 0.7857 - val_loss: 0.4238\n",
            "Epoch 81/100\n",
            "\u001b[1m1/5\u001b[0m \u001b[32m━━━━\u001b[0m\u001b[37m━━━━━━━━━━━━━━━━\u001b[0m \u001b[1m0s\u001b[0m 32ms/step - accuracy: 0.7500 - loss: 0.4360\n",
            "Epoch 81: val_accuracy did not improve from 0.83333\n",
            "\u001b[1m5/5\u001b[0m \u001b[32m━━━━━━━━━━━━━━━━━━━━\u001b[0m\u001b[37m\u001b[0m \u001b[1m0s\u001b[0m 23ms/step - accuracy: 0.7764 - loss: 0.4607 - val_accuracy: 0.8095 - val_loss: 0.4161\n",
            "Epoch 82/100\n",
            "\u001b[1m1/5\u001b[0m \u001b[32m━━━━\u001b[0m\u001b[37m━━━━━━━━━━━━━━━━\u001b[0m \u001b[1m0s\u001b[0m 47ms/step - accuracy: 0.9375 - loss: 0.3157\n",
            "Epoch 82: val_accuracy did not improve from 0.83333\n",
            "\u001b[1m5/5\u001b[0m \u001b[32m━━━━━━━━━━━━━━━━━━━━\u001b[0m\u001b[37m\u001b[0m \u001b[1m0s\u001b[0m 33ms/step - accuracy: 0.8233 - loss: 0.4445 - val_accuracy: 0.8095 - val_loss: 0.4152\n",
            "Epoch 83/100\n",
            "\u001b[1m1/5\u001b[0m \u001b[32m━━━━\u001b[0m\u001b[37m━━━━━━━━━━━━━━━━\u001b[0m \u001b[1m0s\u001b[0m 164ms/step - accuracy: 0.8750 - loss: 0.4060\n",
            "Epoch 83: val_accuracy did not improve from 0.83333\n",
            "\u001b[1m5/5\u001b[0m \u001b[32m━━━━━━━━━━━━━━━━━━━━\u001b[0m\u001b[37m\u001b[0m \u001b[1m0s\u001b[0m 25ms/step - accuracy: 0.8021 - loss: 0.4661 - val_accuracy: 0.8095 - val_loss: 0.4180\n",
            "Epoch 84/100\n",
            "\u001b[1m1/5\u001b[0m \u001b[32m━━━━\u001b[0m\u001b[37m━━━━━━━━━━━━━━━━\u001b[0m \u001b[1m0s\u001b[0m 30ms/step - accuracy: 0.7812 - loss: 0.4862\n",
            "Epoch 84: val_accuracy did not improve from 0.83333\n",
            "\u001b[1m5/5\u001b[0m \u001b[32m━━━━━━━━━━━━━━━━━━━━\u001b[0m\u001b[37m\u001b[0m \u001b[1m0s\u001b[0m 22ms/step - accuracy: 0.7752 - loss: 0.4852 - val_accuracy: 0.7857 - val_loss: 0.4213\n",
            "Epoch 85/100\n",
            "\u001b[1m1/5\u001b[0m \u001b[32m━━━━\u001b[0m\u001b[37m━━━━━━━━━━━━━━━━\u001b[0m \u001b[1m0s\u001b[0m 47ms/step - accuracy: 0.8438 - loss: 0.3329\n",
            "Epoch 85: val_accuracy did not improve from 0.83333\n",
            "\u001b[1m5/5\u001b[0m \u001b[32m━━━━━━━━━━━━━━━━━━━━\u001b[0m\u001b[37m\u001b[0m \u001b[1m0s\u001b[0m 22ms/step - accuracy: 0.7913 - loss: 0.4212 - val_accuracy: 0.7857 - val_loss: 0.4235\n",
            "Epoch 86/100\n",
            "\u001b[1m1/5\u001b[0m \u001b[32m━━━━\u001b[0m\u001b[37m━━━━━━━━━━━━━━━━\u001b[0m \u001b[1m0s\u001b[0m 28ms/step - accuracy: 0.8125 - loss: 0.4906\n",
            "Epoch 86: val_accuracy did not improve from 0.83333\n",
            "\u001b[1m5/5\u001b[0m \u001b[32m━━━━━━━━━━━━━━━━━━━━\u001b[0m\u001b[37m\u001b[0m \u001b[1m0s\u001b[0m 22ms/step - accuracy: 0.8044 - loss: 0.4768 - val_accuracy: 0.7857 - val_loss: 0.4279\n",
            "Epoch 87/100\n",
            "\u001b[1m1/5\u001b[0m \u001b[32m━━━━\u001b[0m\u001b[37m━━━━━━━━━━━━━━━━\u001b[0m \u001b[1m0s\u001b[0m 28ms/step - accuracy: 0.9062 - loss: 0.2774\n",
            "Epoch 87: val_accuracy did not improve from 0.83333\n",
            "\u001b[1m5/5\u001b[0m \u001b[32m━━━━━━━━━━━━━━━━━━━━\u001b[0m\u001b[37m\u001b[0m \u001b[1m0s\u001b[0m 32ms/step - accuracy: 0.8275 - loss: 0.3642 - val_accuracy: 0.7381 - val_loss: 0.4357\n",
            "Epoch 88/100\n",
            "\u001b[1m1/5\u001b[0m \u001b[32m━━━━\u001b[0m\u001b[37m━━━━━━━━━━━━━━━━\u001b[0m \u001b[1m0s\u001b[0m 30ms/step - accuracy: 0.7500 - loss: 0.5822\n",
            "Epoch 88: val_accuracy did not improve from 0.83333\n",
            "\u001b[1m5/5\u001b[0m \u001b[32m━━━━━━━━━━━━━━━━━━━━\u001b[0m\u001b[37m\u001b[0m \u001b[1m0s\u001b[0m 22ms/step - accuracy: 0.7997 - loss: 0.4803 - val_accuracy: 0.7381 - val_loss: 0.4350\n",
            "Epoch 89/100\n",
            "\u001b[1m1/5\u001b[0m \u001b[32m━━━━\u001b[0m\u001b[37m━━━━━━━━━━━━━━━━\u001b[0m \u001b[1m0s\u001b[0m 48ms/step - accuracy: 0.8125 - loss: 0.7820\n",
            "Epoch 89: val_accuracy did not improve from 0.83333\n",
            "\u001b[1m5/5\u001b[0m \u001b[32m━━━━━━━━━━━━━━━━━━━━\u001b[0m\u001b[37m\u001b[0m \u001b[1m0s\u001b[0m 33ms/step - accuracy: 0.7955 - loss: 0.5954 - val_accuracy: 0.7857 - val_loss: 0.4278\n",
            "Epoch 90/100\n",
            "\u001b[1m1/5\u001b[0m \u001b[32m━━━━\u001b[0m\u001b[37m━━━━━━━━━━━━━━━━\u001b[0m \u001b[1m0s\u001b[0m 33ms/step - accuracy: 0.8438 - loss: 0.4471\n",
            "Epoch 90: val_accuracy did not improve from 0.83333\n",
            "\u001b[1m5/5\u001b[0m \u001b[32m━━━━━━━━━━━━━━━━━━━━\u001b[0m\u001b[37m\u001b[0m \u001b[1m0s\u001b[0m 32ms/step - accuracy: 0.8575 - loss: 0.4341 - val_accuracy: 0.7857 - val_loss: 0.4302\n",
            "Epoch 91/100\n",
            "\u001b[1m1/5\u001b[0m \u001b[32m━━━━\u001b[0m\u001b[37m━━━━━━━━━━━━━━━━\u001b[0m \u001b[1m0s\u001b[0m 165ms/step - accuracy: 0.7812 - loss: 0.5645\n",
            "Epoch 91: val_accuracy did not improve from 0.83333\n",
            "\u001b[1m5/5\u001b[0m \u001b[32m━━━━━━━━━━━━━━━━━━━━\u001b[0m\u001b[37m\u001b[0m \u001b[1m0s\u001b[0m 22ms/step - accuracy: 0.7907 - loss: 0.4864 - val_accuracy: 0.7857 - val_loss: 0.4287\n",
            "Epoch 92/100\n",
            "\u001b[1m1/5\u001b[0m \u001b[32m━━━━\u001b[0m\u001b[37m━━━━━━━━━━━━━━━━\u001b[0m \u001b[1m0s\u001b[0m 47ms/step - accuracy: 0.7500 - loss: 0.5521\n",
            "Epoch 92: val_accuracy did not improve from 0.83333\n",
            "\u001b[1m5/5\u001b[0m \u001b[32m━━━━━━━━━━━━━━━━━━━━\u001b[0m\u001b[37m\u001b[0m \u001b[1m0s\u001b[0m 22ms/step - accuracy: 0.7786 - loss: 0.4791 - val_accuracy: 0.7857 - val_loss: 0.4176\n",
            "Epoch 93/100\n",
            "\u001b[1m1/5\u001b[0m \u001b[32m━━━━\u001b[0m\u001b[37m━━━━━━━━━━━━━━━━\u001b[0m \u001b[1m0s\u001b[0m 28ms/step - accuracy: 0.8750 - loss: 0.4178\n",
            "Epoch 93: val_accuracy did not improve from 0.83333\n",
            "\u001b[1m5/5\u001b[0m \u001b[32m━━━━━━━━━━━━━━━━━━━━\u001b[0m\u001b[37m\u001b[0m \u001b[1m0s\u001b[0m 25ms/step - accuracy: 0.8093 - loss: 0.4405 - val_accuracy: 0.8095 - val_loss: 0.4028\n",
            "Epoch 94/100\n",
            "\u001b[1m1/5\u001b[0m \u001b[32m━━━━\u001b[0m\u001b[37m━━━━━━━━━━━━━━━━\u001b[0m \u001b[1m0s\u001b[0m 28ms/step - accuracy: 0.8125 - loss: 0.6197\n",
            "Epoch 94: val_accuracy improved from 0.83333 to 0.85714, saving model to best_model.h5\n"
          ]
        },
        {
          "output_type": "stream",
          "name": "stderr",
          "text": [
            "WARNING:absl:You are saving your model as an HDF5 file via `model.save()` or `keras.saving.save_model(model)`. This file format is considered legacy. We recommend using instead the native Keras format, e.g. `model.save('my_model.keras')` or `keras.saving.save_model(model, 'my_model.keras')`. \n"
          ]
        },
        {
          "output_type": "stream",
          "name": "stdout",
          "text": [
            "\b\b\b\b\b\b\b\b\b\b\b\b\b\b\b\b\b\b\b\b\b\b\b\b\b\b\b\b\b\b\b\b\b\b\b\b\b\b\b\b\b\b\b\b\b\b\b\b\b\b\b\b\b\b\b\b\b\b\b\b\b\b\b\b\b\b\b\b\b\b\b\r\u001b[1m5/5\u001b[0m \u001b[32m━━━━━━━━━━━━━━━━━━━━\u001b[0m\u001b[37m\u001b[0m \u001b[1m0s\u001b[0m 36ms/step - accuracy: 0.8175 - loss: 0.4959 - val_accuracy: 0.8571 - val_loss: 0.3905\n",
            "Epoch 95/100\n",
            "\u001b[1m1/5\u001b[0m \u001b[32m━━━━\u001b[0m\u001b[37m━━━━━━━━━━━━━━━━\u001b[0m \u001b[1m0s\u001b[0m 31ms/step - accuracy: 0.7500 - loss: 0.5199\n",
            "Epoch 95: val_accuracy improved from 0.85714 to 0.88095, saving model to best_model.h5\n"
          ]
        },
        {
          "output_type": "stream",
          "name": "stderr",
          "text": [
            "WARNING:absl:You are saving your model as an HDF5 file via `model.save()` or `keras.saving.save_model(model)`. This file format is considered legacy. We recommend using instead the native Keras format, e.g. `model.save('my_model.keras')` or `keras.saving.save_model(model, 'my_model.keras')`. \n"
          ]
        },
        {
          "output_type": "stream",
          "name": "stdout",
          "text": [
            "\b\b\b\b\b\b\b\b\b\b\b\b\b\b\b\b\b\b\b\b\b\b\b\b\b\b\b\b\b\b\b\b\b\b\b\b\b\b\b\b\b\b\b\b\b\b\b\b\b\b\b\b\b\b\b\b\b\b\b\b\b\b\b\b\b\b\b\b\b\b\b\r\u001b[1m5/5\u001b[0m \u001b[32m━━━━━━━━━━━━━━━━━━━━\u001b[0m\u001b[37m\u001b[0m \u001b[1m0s\u001b[0m 40ms/step - accuracy: 0.7837 - loss: 0.5094 - val_accuracy: 0.8810 - val_loss: 0.3854\n",
            "Epoch 96/100\n",
            "\u001b[1m1/5\u001b[0m \u001b[32m━━━━\u001b[0m\u001b[37m━━━━━━━━━━━━━━━━\u001b[0m \u001b[1m0s\u001b[0m 134ms/step - accuracy: 0.7500 - loss: 0.4592\n",
            "Epoch 96: val_accuracy did not improve from 0.88095\n",
            "\u001b[1m5/5\u001b[0m \u001b[32m━━━━━━━━━━━━━━━━━━━━\u001b[0m\u001b[37m\u001b[0m \u001b[1m0s\u001b[0m 22ms/step - accuracy: 0.7907 - loss: 0.4466 - val_accuracy: 0.8571 - val_loss: 0.3928\n",
            "Epoch 97/100\n",
            "\u001b[1m1/5\u001b[0m \u001b[32m━━━━\u001b[0m\u001b[37m━━━━━━━━━━━━━━━━\u001b[0m \u001b[1m0s\u001b[0m 49ms/step - accuracy: 0.8438 - loss: 0.3072\n",
            "Epoch 97: val_accuracy did not improve from 0.88095\n",
            "\u001b[1m5/5\u001b[0m \u001b[32m━━━━━━━━━━━━━━━━━━━━\u001b[0m\u001b[37m\u001b[0m \u001b[1m0s\u001b[0m 32ms/step - accuracy: 0.7637 - loss: 0.4330 - val_accuracy: 0.8095 - val_loss: 0.4064\n",
            "Epoch 98/100\n",
            "\u001b[1m1/5\u001b[0m \u001b[32m━━━━\u001b[0m\u001b[37m━━━━━━━━━━━━━━━━\u001b[0m \u001b[1m0s\u001b[0m 169ms/step - accuracy: 0.7500 - loss: 0.4832\n",
            "Epoch 98: val_accuracy did not improve from 0.88095\n",
            "\u001b[1m5/5\u001b[0m \u001b[32m━━━━━━━━━━━━━━━━━━━━\u001b[0m\u001b[37m\u001b[0m \u001b[1m0s\u001b[0m 24ms/step - accuracy: 0.7855 - loss: 0.4547 - val_accuracy: 0.7857 - val_loss: 0.4153\n",
            "Epoch 99/100\n",
            "\u001b[1m1/5\u001b[0m \u001b[32m━━━━\u001b[0m\u001b[37m━━━━━━━━━━━━━━━━\u001b[0m \u001b[1m0s\u001b[0m 27ms/step - accuracy: 0.7500 - loss: 0.4003\n",
            "Epoch 99: val_accuracy did not improve from 0.88095\n",
            "\u001b[1m5/5\u001b[0m \u001b[32m━━━━━━━━━━━━━━━━━━━━\u001b[0m\u001b[37m\u001b[0m \u001b[1m0s\u001b[0m 22ms/step - accuracy: 0.7778 - loss: 0.4097 - val_accuracy: 0.7857 - val_loss: 0.4241\n",
            "Epoch 100/100\n",
            "\u001b[1m1/5\u001b[0m \u001b[32m━━━━\u001b[0m\u001b[37m━━━━━━━━━━━━━━━━\u001b[0m \u001b[1m0s\u001b[0m 44ms/step - accuracy: 0.8438 - loss: 0.3330\n",
            "Epoch 100: val_accuracy did not improve from 0.88095\n",
            "\u001b[1m5/5\u001b[0m \u001b[32m━━━━━━━━━━━━━━━━━━━━\u001b[0m\u001b[37m\u001b[0m \u001b[1m0s\u001b[0m 23ms/step - accuracy: 0.8183 - loss: 0.4165 - val_accuracy: 0.7857 - val_loss: 0.4190\n"
          ]
        }
      ],
      "source": [
        "from keras.callbacks import ModelCheckpoint\n",
        "\n",
        "checkpoint = ModelCheckpoint(\n",
        "    'best_model.h5',              # file to save the best model\n",
        "    monitor='val_accuracy',       # monitor validation accuracy\n",
        "    mode='max',                   # we want to maximize accuracy\n",
        "    save_best_only=True,          # only save the best model\n",
        "    verbose=1\n",
        ")\n",
        "\n",
        "# Compile your model\n",
        "model.compile(optimizer=Adam(learning_rate=1e-5),\n",
        "              loss='binary_crossentropy',\n",
        "              metrics=['accuracy'])\n",
        "\n",
        "# Train the model with checkpoint callback\n",
        "history = model.fit(X_train, y_train_cat,\n",
        "                    validation_data=(X_val, y_val_cat),\n",
        "                    epochs=100,\n",
        "                    batch_size=32,\n",
        "                    callbacks=[checkpoint],\n",
        "                    verbose=1)\n"
      ]
    },
    {
      "cell_type": "code",
      "execution_count": null,
      "id": "388a92d9-af40-42ec-a83e-f815bff84672",
      "metadata": {
        "id": "388a92d9-af40-42ec-a83e-f815bff84672"
      },
      "outputs": [],
      "source": []
    },
    {
      "cell_type": "code",
      "execution_count": 26,
      "id": "e49b906c-8fc2-4d53-87f5-ebbf94ac12d1",
      "metadata": {
        "id": "e49b906c-8fc2-4d53-87f5-ebbf94ac12d1",
        "colab": {
          "base_uri": "https://localhost:8080/",
          "height": 472
        },
        "outputId": "6739b6f5-8f11-41aa-b2d6-1c1d82d52110"
      },
      "outputs": [
        {
          "output_type": "display_data",
          "data": {
            "text/plain": [
              "<Figure size 640x480 with 1 Axes>"
            ],
            "image/png": "[encoded data removed]"
          },
          "metadata": {}
        }
      ],
      "source": [
        "plt.plot(history.history['loss'], label='Train Loss')\n",
        "plt.plot(history.history['val_loss'], label='Validation Loss')\n",
        "plt.xlabel('Epoch')\n",
        "plt.ylabel('Loss')\n",
        "plt.title('Loss Over Epochs')\n",
        "plt.legend()\n",
        "plt.grid(True)\n",
        "plt.show()"
      ]
    },
    {
      "cell_type": "code",
      "execution_count": null,
      "id": "00db4beb-fc51-4a0d-98dd-7d321f7291e7",
      "metadata": {
        "id": "00db4beb-fc51-4a0d-98dd-7d321f7291e7"
      },
      "outputs": [],
      "source": []
    },
    {
      "cell_type": "code",
      "execution_count": null,
      "id": "26c9eabc-4f41-4d46-90bf-7295438ac013",
      "metadata": {
        "id": "26c9eabc-4f41-4d46-90bf-7295438ac013"
      },
      "outputs": [],
      "source": []
    },
    {
      "cell_type": "code",
      "execution_count": null,
      "id": "350b135b-6f7f-488f-9938-a15ae6df05ae",
      "metadata": {
        "id": "350b135b-6f7f-488f-9938-a15ae6df05ae"
      },
      "outputs": [],
      "source": []
    },
    {
      "cell_type": "code",
      "execution_count": 27,
      "id": "9b4100c2-5e03-4cd0-825e-6126bfc6a555",
      "metadata": {
        "id": "9b4100c2-5e03-4cd0-825e-6126bfc6a555",
        "outputId": "a530232c-329e-4212-896f-56e406271a2b",
        "colab": {
          "base_uri": "https://localhost:8080/"
        }
      },
      "outputs": [
        {
          "output_type": "stream",
          "name": "stdout",
          "text": [
            "\u001b[1m2/2\u001b[0m \u001b[32m━━━━━━━━━━━━━━━━━━━━\u001b[0m\u001b[37m\u001b[0m \u001b[1m1s\u001b[0m 803ms/step\n",
            "Test Accuracy: 63.27%\n"
          ]
        }
      ],
      "source": [
        "from tensorflow.keras.models import load_model\n",
        "\n",
        "# Load the best model\n",
        "#best_model = load_model('best_model.h5')\n",
        "\n",
        "# Predict\n",
        "y_pred_probs = model.predict(X_test)\n",
        "\n",
        "# Convert probabilities to class labels\n",
        "y_pred_labels = (y_pred_probs > 0.5).astype(int).flatten()\n",
        "\n",
        "# Compute accuracy\n",
        "accuracy = np.mean(y_pred_labels == y_test_cat)\n",
        "print(f\"Test Accuracy: {accuracy * 100:.2f}%\")\n"
      ]
    },
    {
      "cell_type": "code",
      "execution_count": 29,
      "id": "02b7fa11-c1fd-4526-b4ba-1a26924cd1cc",
      "metadata": {
        "id": "02b7fa11-c1fd-4526-b4ba-1a26924cd1cc",
        "outputId": "c57cd1c0-0bac-42cb-fa11-d1f7d2c35507",
        "colab": {
          "base_uri": "https://localhost:8080/",
          "height": 472
        }
      },
      "outputs": [
        {
          "output_type": "display_data",
          "data": {
            "text/plain": [
              "<Figure size 640x480 with 2 Axes>"
            ],
            "image/png": "[encoded data removed]"
          },
          "metadata": {}
        }
      ],
      "source": [
        "from sklearn.metrics import confusion_matrix, ConfusionMatrixDisplay\n",
        "\n",
        "# Compute confusion matrix\n",
        "cm = confusion_matrix(y_test_cat, y_pred_labels)\n",
        "disp = ConfusionMatrixDisplay(confusion_matrix=cm, display_labels=['Healthy', 'AD'])\n",
        "\n",
        "# Plot\n",
        "disp.plot(cmap='viridis')\n",
        "plt.title(\"Confusion Matrix\")\n",
        "plt.show()\n"
      ]
    },
    {
      "cell_type": "code",
      "execution_count": null,
      "id": "af1541e1-5b89-4102-9703-7a2f2eb1e5be",
      "metadata": {
        "id": "af1541e1-5b89-4102-9703-7a2f2eb1e5be"
      },
      "outputs": [],
      "source": []
    },
    {
      "cell_type": "code",
      "execution_count": null,
      "id": "5af53a06-199f-408f-9d29-9ad9e4f24346",
      "metadata": {
        "id": "5af53a06-199f-408f-9d29-9ad9e4f24346"
      },
      "outputs": [],
      "source": []
    },
    {
      "cell_type": "code",
      "execution_count": null,
      "id": "5dc531ba-ba18-42fc-952a-e8200bd73d16",
      "metadata": {
        "id": "5dc531ba-ba18-42fc-952a-e8200bd73d16"
      },
      "outputs": [],
      "source": []
    },
    {
      "cell_type": "code",
      "execution_count": null,
      "id": "998cde8d-9e5e-4242-bdc3-38ba94ccc427",
      "metadata": {
        "id": "998cde8d-9e5e-4242-bdc3-38ba94ccc427"
      },
      "outputs": [],
      "source": []
    },
    {
      "cell_type": "code",
      "execution_count": null,
      "id": "abb5e097-585f-4ffc-ab2a-972fca6633f0",
      "metadata": {
        "id": "abb5e097-585f-4ffc-ab2a-972fca6633f0"
      },
      "outputs": [],
      "source": []
    },
    {
      "cell_type": "code",
      "execution_count": null,
      "id": "fc32cafd-8445-4de2-8c65-d32fa1fcc6e8",
      "metadata": {
        "id": "fc32cafd-8445-4de2-8c65-d32fa1fcc6e8"
      },
      "outputs": [],
      "source": []
    },
    {
      "cell_type": "code",
      "execution_count": null,
      "id": "b87efc90-fc68-47f4-9151-5f22317b9fc0",
      "metadata": {
        "id": "b87efc90-fc68-47f4-9151-5f22317b9fc0"
      },
      "outputs": [],
      "source": []
    },
    {
      "cell_type": "code",
      "execution_count": null,
      "id": "445e8b63-ad5f-4e0b-a3da-5ee3cb67d417",
      "metadata": {
        "id": "445e8b63-ad5f-4e0b-a3da-5ee3cb67d417"
      },
      "outputs": [],
      "source": []
    },
    {
      "cell_type": "code",
      "execution_count": null,
      "id": "066f41a2-83d6-4761-9384-26c5e9936255",
      "metadata": {
        "id": "066f41a2-83d6-4761-9384-26c5e9936255"
      },
      "outputs": [],
      "source": []
    },
    {
      "cell_type": "code",
      "execution_count": null,
      "id": "c7860369-59b6-43f8-b3e9-f235bca60c9c",
      "metadata": {
        "id": "c7860369-59b6-43f8-b3e9-f235bca60c9c"
      },
      "outputs": [],
      "source": []
    },
    {
      "cell_type": "code",
      "execution_count": null,
      "id": "274e3c7b-c86b-44f7-bd1a-d68e5ab46b79",
      "metadata": {
        "id": "274e3c7b-c86b-44f7-bd1a-d68e5ab46b79"
      },
      "outputs": [],
      "source": []
    }
  ],
  "metadata": {
    "kernelspec": {
      "display_name": "Python [conda env:base] *",
      "language": "python",
      "name": "conda-base-py"
    },
    "language_info": {
      "codemirror_mode": {
        "name": "ipython",
        "version": 3
      },
      "file_extension": ".py",
      "mimetype": "text/x-python",
      "name": "python",
      "nbconvert_exporter": "python",
      "pygments_lexer": "ipython3",
      "version": "3.12.3"
    },
    "colab": {
      "provenance": [],
      "gpuType": "T4"
    },
    "accelerator": "GPU"
  },
  "nbformat": 4,
  "nbformat_minor": 5
}