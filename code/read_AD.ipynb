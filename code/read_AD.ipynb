{
 "cells": [
  {
   "cell_type": "code",
   "execution_count": 130,
   "id": "d31c0043-8806-426a-8bad-b64b9110bcae",
   "metadata": {},
   "outputs": [],
   "source": [
    "import numpy as np\n",
    "from scipy.io import loadmat"
   ]
  },
  {
   "cell_type": "code",
   "execution_count": 132,
   "id": "6e4f9b19-0eab-4a04-ab68-28874b4e9300",
   "metadata": {},
   "outputs": [],
   "source": [
    "path = 'C:/Users/Haiya/Downloads/Data_EEG/Data_EEG/AD/'"
   ]
  },
  {
   "cell_type": "code",
   "execution_count": 190,
   "id": "01cffd42-7b88-473b-b8ab-2e64662e5918",
   "metadata": {},
   "outputs": [],
   "source": [
    "# Load the .mat file\n",
    "mat = loadmat(path + 'sub6.mat')\n",
    "eeg = mat['transferred_EEG']"
   ]
  },
  {
   "cell_type": "code",
   "execution_count": 192,
   "id": "5d760c7a-b680-46b8-bd25-1f87c76e29c9",
   "metadata": {},
   "outputs": [],
   "source": [
    "# Extract the structure fields\n",
    "eeg_struct = eeg[0, 0]\n",
    "labels = [str(label[0]) for label in eeg_struct['label'][0]] # the name of channels. \n",
    "fs = float(eeg_struct['fsample'][0][0])\n",
    "trial = eeg_struct['trial'][0]   # list of trials\n",
    "time  = eeg_struct['time'][0]    # list of time vectors\n",
    "# Get data for first trial\n",
    "eeg_data = trial[0]   # shape: [nChannels x nTimePoints]\n",
    "time_vec = time[0]    # shape: [nTimePoints]"
   ]
  },
  {
   "cell_type": "code",
   "execution_count": 194,
   "id": "1e181da1-c67e-4344-8966-e8114734cbde",
   "metadata": {},
   "outputs": [
    {
     "name": "stdout",
     "output_type": "stream",
     "text": [
      "eeg_data shape: (19, 210000) (channels x time points)\n",
      "Sampling rate: 500.00 Hz\n",
      "Number of channels: 19\n"
     ]
    }
   ],
   "source": [
    "print(f\"eeg_data shape: {eeg_data.shape} (channels x time points)\")\n",
    "print(f\"Sampling rate: {fs:.2f} Hz\")\n",
    "print(f\"Number of channels: {len(labels)}\")"
   ]
  },
  {
   "cell_type": "code",
   "execution_count": null,
   "id": "8aef2900-8816-4142-bc82-d6678e8b0eb6",
   "metadata": {},
   "outputs": [],
   "source": []
  },
  {
   "cell_type": "markdown",
   "id": "6bf0f050-a560-4f0d-b256-a9b2d413dbfc",
   "metadata": {},
   "source": [
    "### Package Test"
   ]
  },
  {
   "cell_type": "code",
   "execution_count": 179,
   "id": "009c8904-307e-4676-b577-5cf300f6b53c",
   "metadata": {},
   "outputs": [],
   "source": [
    "from read_eeg import get_eeg_info"
   ]
  },
  {
   "cell_type": "code",
   "execution_count": 181,
   "id": "373df989-2132-4f52-a2d8-42ee92f9793b",
   "metadata": {},
   "outputs": [],
   "source": [
    "re = get_eeg_info(path + 'sub5.mat')"
   ]
  },
  {
   "cell_type": "code",
   "execution_count": 186,
   "id": "cc4f368f-7c48-4e54-9e92-d77a74e0c865",
   "metadata": {},
   "outputs": [
    {
     "data": {
      "text/plain": [
       "(19, 210000)"
      ]
     },
     "execution_count": 186,
     "metadata": {},
     "output_type": "execute_result"
    }
   ],
   "source": [
    "re['eeg_data'].shape"
   ]
  },
  {
   "cell_type": "code",
   "execution_count": 188,
   "id": "beb2738b-a891-47ef-894e-ce033d7a282f",
   "metadata": {},
   "outputs": [
    {
     "data": {
      "text/plain": [
       "(1, 210000)"
      ]
     },
     "execution_count": 188,
     "metadata": {},
     "output_type": "execute_result"
    }
   ],
   "source": [
    "re['time'].shape"
   ]
  },
  {
   "cell_type": "code",
   "execution_count": null,
   "id": "208f9b0f-b05b-4b1d-a8d7-7792ccdd548f",
   "metadata": {},
   "outputs": [],
   "source": []
  },
  {
   "cell_type": "code",
   "execution_count": null,
   "id": "e07106c5-0d24-40da-89e0-d6769fd7e86e",
   "metadata": {},
   "outputs": [],
   "source": []
  },
  {
   "cell_type": "code",
   "execution_count": null,
   "id": "53e32c17-6c03-46e8-901e-fca4feb32094",
   "metadata": {},
   "outputs": [],
   "source": []
  },
  {
   "cell_type": "code",
   "execution_count": null,
   "id": "20628639-474c-43b9-9db6-e2828b860bbf",
   "metadata": {},
   "outputs": [],
   "source": []
  },
  {
   "cell_type": "code",
   "execution_count": null,
   "id": "dec6cdf7-d106-416b-800d-cf1f3ba4f75e",
   "metadata": {},
   "outputs": [],
   "source": []
  },
  {
   "cell_type": "code",
   "execution_count": null,
   "id": "4aa6bd7d-9b93-4b77-972d-8d12709bc731",
   "metadata": {},
   "outputs": [],
   "source": []
  }
 ],
 "metadata": {
  "kernelspec": {
   "display_name": "Python [conda env:base] *",
   "language": "python",
   "name": "conda-base-py"
  },
  "language_info": {
   "codemirror_mode": {
    "name": "ipython",
    "version": 3
   },
   "file_extension": ".py",
   "mimetype": "text/x-python",
   "name": "python",
   "nbconvert_exporter": "python",
   "pygments_lexer": "ipython3",
   "version": "3.12.3"
  }
 },
 "nbformat": 4,
 "nbformat_minor": 5
}
